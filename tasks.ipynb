{
 "cells": [
  {
   "cell_type": "markdown",
   "metadata": {},
   "source": [
    "<h1 align=\"center\"><b>Weekly Tasks</b></h1>"
   ]
  },
  {
   "cell_type": "markdown",
   "metadata": {},
   "source": [
    "*input table of contents for easier navigation"
   ]
  },
  {
   "cell_type": "markdown",
   "metadata": {},
   "source": [
    "<h1><center>Task 1: Source the Data Set</center></h1>\n",
    "\n",
    "Instructions: Import the Iris data set from the sklearn.datasets module.\n",
    "              Explain, in your own words, what the load_iris() function returns."
   ]
  },
  {
   "cell_type": "code",
   "execution_count": 43,
   "metadata": {},
   "outputs": [],
   "source": [
    "# Data frames\n",
    "import pandas as pd\n",
    "\n",
    "# Machine Learning Library that contains example datasets.\n",
    "import sklearn as skl "
   ]
  },
  {
   "cell_type": "code",
   "execution_count": 44,
   "metadata": {},
   "outputs": [
    {
     "data": {
      "text/plain": [
       "{'data': array([[5.1, 3.5, 1.4, 0.2],\n",
       "        [4.9, 3. , 1.4, 0.2],\n",
       "        [4.7, 3.2, 1.3, 0.2],\n",
       "        [4.6, 3.1, 1.5, 0.2],\n",
       "        [5. , 3.6, 1.4, 0.2],\n",
       "        [5.4, 3.9, 1.7, 0.4],\n",
       "        [4.6, 3.4, 1.4, 0.3],\n",
       "        [5. , 3.4, 1.5, 0.2],\n",
       "        [4.4, 2.9, 1.4, 0.2],\n",
       "        [4.9, 3.1, 1.5, 0.1],\n",
       "        [5.4, 3.7, 1.5, 0.2],\n",
       "        [4.8, 3.4, 1.6, 0.2],\n",
       "        [4.8, 3. , 1.4, 0.1],\n",
       "        [4.3, 3. , 1.1, 0.1],\n",
       "        [5.8, 4. , 1.2, 0.2],\n",
       "        [5.7, 4.4, 1.5, 0.4],\n",
       "        [5.4, 3.9, 1.3, 0.4],\n",
       "        [5.1, 3.5, 1.4, 0.3],\n",
       "        [5.7, 3.8, 1.7, 0.3],\n",
       "        [5.1, 3.8, 1.5, 0.3],\n",
       "        [5.4, 3.4, 1.7, 0.2],\n",
       "        [5.1, 3.7, 1.5, 0.4],\n",
       "        [4.6, 3.6, 1. , 0.2],\n",
       "        [5.1, 3.3, 1.7, 0.5],\n",
       "        [4.8, 3.4, 1.9, 0.2],\n",
       "        [5. , 3. , 1.6, 0.2],\n",
       "        [5. , 3.4, 1.6, 0.4],\n",
       "        [5.2, 3.5, 1.5, 0.2],\n",
       "        [5.2, 3.4, 1.4, 0.2],\n",
       "        [4.7, 3.2, 1.6, 0.2],\n",
       "        [4.8, 3.1, 1.6, 0.2],\n",
       "        [5.4, 3.4, 1.5, 0.4],\n",
       "        [5.2, 4.1, 1.5, 0.1],\n",
       "        [5.5, 4.2, 1.4, 0.2],\n",
       "        [4.9, 3.1, 1.5, 0.2],\n",
       "        [5. , 3.2, 1.2, 0.2],\n",
       "        [5.5, 3.5, 1.3, 0.2],\n",
       "        [4.9, 3.6, 1.4, 0.1],\n",
       "        [4.4, 3. , 1.3, 0.2],\n",
       "        [5.1, 3.4, 1.5, 0.2],\n",
       "        [5. , 3.5, 1.3, 0.3],\n",
       "        [4.5, 2.3, 1.3, 0.3],\n",
       "        [4.4, 3.2, 1.3, 0.2],\n",
       "        [5. , 3.5, 1.6, 0.6],\n",
       "        [5.1, 3.8, 1.9, 0.4],\n",
       "        [4.8, 3. , 1.4, 0.3],\n",
       "        [5.1, 3.8, 1.6, 0.2],\n",
       "        [4.6, 3.2, 1.4, 0.2],\n",
       "        [5.3, 3.7, 1.5, 0.2],\n",
       "        [5. , 3.3, 1.4, 0.2],\n",
       "        [7. , 3.2, 4.7, 1.4],\n",
       "        [6.4, 3.2, 4.5, 1.5],\n",
       "        [6.9, 3.1, 4.9, 1.5],\n",
       "        [5.5, 2.3, 4. , 1.3],\n",
       "        [6.5, 2.8, 4.6, 1.5],\n",
       "        [5.7, 2.8, 4.5, 1.3],\n",
       "        [6.3, 3.3, 4.7, 1.6],\n",
       "        [4.9, 2.4, 3.3, 1. ],\n",
       "        [6.6, 2.9, 4.6, 1.3],\n",
       "        [5.2, 2.7, 3.9, 1.4],\n",
       "        [5. , 2. , 3.5, 1. ],\n",
       "        [5.9, 3. , 4.2, 1.5],\n",
       "        [6. , 2.2, 4. , 1. ],\n",
       "        [6.1, 2.9, 4.7, 1.4],\n",
       "        [5.6, 2.9, 3.6, 1.3],\n",
       "        [6.7, 3.1, 4.4, 1.4],\n",
       "        [5.6, 3. , 4.5, 1.5],\n",
       "        [5.8, 2.7, 4.1, 1. ],\n",
       "        [6.2, 2.2, 4.5, 1.5],\n",
       "        [5.6, 2.5, 3.9, 1.1],\n",
       "        [5.9, 3.2, 4.8, 1.8],\n",
       "        [6.1, 2.8, 4. , 1.3],\n",
       "        [6.3, 2.5, 4.9, 1.5],\n",
       "        [6.1, 2.8, 4.7, 1.2],\n",
       "        [6.4, 2.9, 4.3, 1.3],\n",
       "        [6.6, 3. , 4.4, 1.4],\n",
       "        [6.8, 2.8, 4.8, 1.4],\n",
       "        [6.7, 3. , 5. , 1.7],\n",
       "        [6. , 2.9, 4.5, 1.5],\n",
       "        [5.7, 2.6, 3.5, 1. ],\n",
       "        [5.5, 2.4, 3.8, 1.1],\n",
       "        [5.5, 2.4, 3.7, 1. ],\n",
       "        [5.8, 2.7, 3.9, 1.2],\n",
       "        [6. , 2.7, 5.1, 1.6],\n",
       "        [5.4, 3. , 4.5, 1.5],\n",
       "        [6. , 3.4, 4.5, 1.6],\n",
       "        [6.7, 3.1, 4.7, 1.5],\n",
       "        [6.3, 2.3, 4.4, 1.3],\n",
       "        [5.6, 3. , 4.1, 1.3],\n",
       "        [5.5, 2.5, 4. , 1.3],\n",
       "        [5.5, 2.6, 4.4, 1.2],\n",
       "        [6.1, 3. , 4.6, 1.4],\n",
       "        [5.8, 2.6, 4. , 1.2],\n",
       "        [5. , 2.3, 3.3, 1. ],\n",
       "        [5.6, 2.7, 4.2, 1.3],\n",
       "        [5.7, 3. , 4.2, 1.2],\n",
       "        [5.7, 2.9, 4.2, 1.3],\n",
       "        [6.2, 2.9, 4.3, 1.3],\n",
       "        [5.1, 2.5, 3. , 1.1],\n",
       "        [5.7, 2.8, 4.1, 1.3],\n",
       "        [6.3, 3.3, 6. , 2.5],\n",
       "        [5.8, 2.7, 5.1, 1.9],\n",
       "        [7.1, 3. , 5.9, 2.1],\n",
       "        [6.3, 2.9, 5.6, 1.8],\n",
       "        [6.5, 3. , 5.8, 2.2],\n",
       "        [7.6, 3. , 6.6, 2.1],\n",
       "        [4.9, 2.5, 4.5, 1.7],\n",
       "        [7.3, 2.9, 6.3, 1.8],\n",
       "        [6.7, 2.5, 5.8, 1.8],\n",
       "        [7.2, 3.6, 6.1, 2.5],\n",
       "        [6.5, 3.2, 5.1, 2. ],\n",
       "        [6.4, 2.7, 5.3, 1.9],\n",
       "        [6.8, 3. , 5.5, 2.1],\n",
       "        [5.7, 2.5, 5. , 2. ],\n",
       "        [5.8, 2.8, 5.1, 2.4],\n",
       "        [6.4, 3.2, 5.3, 2.3],\n",
       "        [6.5, 3. , 5.5, 1.8],\n",
       "        [7.7, 3.8, 6.7, 2.2],\n",
       "        [7.7, 2.6, 6.9, 2.3],\n",
       "        [6. , 2.2, 5. , 1.5],\n",
       "        [6.9, 3.2, 5.7, 2.3],\n",
       "        [5.6, 2.8, 4.9, 2. ],\n",
       "        [7.7, 2.8, 6.7, 2. ],\n",
       "        [6.3, 2.7, 4.9, 1.8],\n",
       "        [6.7, 3.3, 5.7, 2.1],\n",
       "        [7.2, 3.2, 6. , 1.8],\n",
       "        [6.2, 2.8, 4.8, 1.8],\n",
       "        [6.1, 3. , 4.9, 1.8],\n",
       "        [6.4, 2.8, 5.6, 2.1],\n",
       "        [7.2, 3. , 5.8, 1.6],\n",
       "        [7.4, 2.8, 6.1, 1.9],\n",
       "        [7.9, 3.8, 6.4, 2. ],\n",
       "        [6.4, 2.8, 5.6, 2.2],\n",
       "        [6.3, 2.8, 5.1, 1.5],\n",
       "        [6.1, 2.6, 5.6, 1.4],\n",
       "        [7.7, 3. , 6.1, 2.3],\n",
       "        [6.3, 3.4, 5.6, 2.4],\n",
       "        [6.4, 3.1, 5.5, 1.8],\n",
       "        [6. , 3. , 4.8, 1.8],\n",
       "        [6.9, 3.1, 5.4, 2.1],\n",
       "        [6.7, 3.1, 5.6, 2.4],\n",
       "        [6.9, 3.1, 5.1, 2.3],\n",
       "        [5.8, 2.7, 5.1, 1.9],\n",
       "        [6.8, 3.2, 5.9, 2.3],\n",
       "        [6.7, 3.3, 5.7, 2.5],\n",
       "        [6.7, 3. , 5.2, 2.3],\n",
       "        [6.3, 2.5, 5. , 1.9],\n",
       "        [6.5, 3. , 5.2, 2. ],\n",
       "        [6.2, 3.4, 5.4, 2.3],\n",
       "        [5.9, 3. , 5.1, 1.8]]),\n",
       " 'target': array([0, 0, 0, 0, 0, 0, 0, 0, 0, 0, 0, 0, 0, 0, 0, 0, 0, 0, 0, 0, 0, 0,\n",
       "        0, 0, 0, 0, 0, 0, 0, 0, 0, 0, 0, 0, 0, 0, 0, 0, 0, 0, 0, 0, 0, 0,\n",
       "        0, 0, 0, 0, 0, 0, 1, 1, 1, 1, 1, 1, 1, 1, 1, 1, 1, 1, 1, 1, 1, 1,\n",
       "        1, 1, 1, 1, 1, 1, 1, 1, 1, 1, 1, 1, 1, 1, 1, 1, 1, 1, 1, 1, 1, 1,\n",
       "        1, 1, 1, 1, 1, 1, 1, 1, 1, 1, 1, 1, 2, 2, 2, 2, 2, 2, 2, 2, 2, 2,\n",
       "        2, 2, 2, 2, 2, 2, 2, 2, 2, 2, 2, 2, 2, 2, 2, 2, 2, 2, 2, 2, 2, 2,\n",
       "        2, 2, 2, 2, 2, 2, 2, 2, 2, 2, 2, 2, 2, 2, 2, 2, 2, 2]),\n",
       " 'frame': None,\n",
       " 'target_names': array(['setosa', 'versicolor', 'virginica'], dtype='<U10'),\n",
       " 'DESCR': '.. _iris_dataset:\\n\\nIris plants dataset\\n--------------------\\n\\n**Data Set Characteristics:**\\n\\n:Number of Instances: 150 (50 in each of three classes)\\n:Number of Attributes: 4 numeric, predictive attributes and the class\\n:Attribute Information:\\n    - sepal length in cm\\n    - sepal width in cm\\n    - petal length in cm\\n    - petal width in cm\\n    - class:\\n            - Iris-Setosa\\n            - Iris-Versicolour\\n            - Iris-Virginica\\n\\n:Summary Statistics:\\n\\n============== ==== ==== ======= ===== ====================\\n                Min  Max   Mean    SD   Class Correlation\\n============== ==== ==== ======= ===== ====================\\nsepal length:   4.3  7.9   5.84   0.83    0.7826\\nsepal width:    2.0  4.4   3.05   0.43   -0.4194\\npetal length:   1.0  6.9   3.76   1.76    0.9490  (high!)\\npetal width:    0.1  2.5   1.20   0.76    0.9565  (high!)\\n============== ==== ==== ======= ===== ====================\\n\\n:Missing Attribute Values: None\\n:Class Distribution: 33.3% for each of 3 classes.\\n:Creator: R.A. Fisher\\n:Donor: Michael Marshall (MARSHALL%PLU@io.arc.nasa.gov)\\n:Date: July, 1988\\n\\nThe famous Iris database, first used by Sir R.A. Fisher. The dataset is taken\\nfrom Fisher\\'s paper. Note that it\\'s the same as in R, but not as in the UCI\\nMachine Learning Repository, which has two wrong data points.\\n\\nThis is perhaps the best known database to be found in the\\npattern recognition literature.  Fisher\\'s paper is a classic in the field and\\nis referenced frequently to this day.  (See Duda & Hart, for example.)  The\\ndata set contains 3 classes of 50 instances each, where each class refers to a\\ntype of iris plant.  One class is linearly separable from the other 2; the\\nlatter are NOT linearly separable from each other.\\n\\n.. dropdown:: References\\n\\n  - Fisher, R.A. \"The use of multiple measurements in taxonomic problems\"\\n    Annual Eugenics, 7, Part II, 179-188 (1936); also in \"Contributions to\\n    Mathematical Statistics\" (John Wiley, NY, 1950).\\n  - Duda, R.O., & Hart, P.E. (1973) Pattern Classification and Scene Analysis.\\n    (Q327.D83) John Wiley & Sons.  ISBN 0-471-22361-1.  See page 218.\\n  - Dasarathy, B.V. (1980) \"Nosing Around the Neighborhood: A New System\\n    Structure and Classification Rule for Recognition in Partially Exposed\\n    Environments\".  IEEE Transactions on Pattern Analysis and Machine\\n    Intelligence, Vol. PAMI-2, No. 1, 67-71.\\n  - Gates, G.W. (1972) \"The Reduced Nearest Neighbor Rule\".  IEEE Transactions\\n    on Information Theory, May 1972, 431-433.\\n  - See also: 1988 MLC Proceedings, 54-64.  Cheeseman et al\"s AUTOCLASS II\\n    conceptual clustering system finds 3 classes in the data.\\n  - Many, many more ...\\n',\n",
       " 'feature_names': ['sepal length (cm)',\n",
       "  'sepal width (cm)',\n",
       "  'petal length (cm)',\n",
       "  'petal width (cm)'],\n",
       " 'filename': 'iris.csv',\n",
       " 'data_module': 'sklearn.datasets.data'}"
      ]
     },
     "execution_count": 44,
     "metadata": {},
     "output_type": "execute_result"
    }
   ],
   "source": [
    "# load_iris() function\n",
    "from sklearn.datasets import load_iris\n",
    "data = load_iris()\n",
    "data"
   ]
  },
  {
   "cell_type": "markdown",
   "metadata": {},
   "source": [
    "The load_iris() function loads and returns the iris dataset. It returns the iris dataset as a dictionary like object."
   ]
  },
  {
   "cell_type": "markdown",
   "metadata": {},
   "source": [
    "<h1><center>Task 2: Explore the Data Structure</center></h1>\n",
    "\n",
    "Instructions: Print and explain the shape of the data set, the first and last 5 rows of the data, the feature names, and the target classes."
   ]
  },
  {
   "cell_type": "markdown",
   "metadata": {},
   "source": [
    "# Shape of the dataset"
   ]
  },
  {
   "cell_type": "code",
   "execution_count": 45,
   "metadata": {},
   "outputs": [
    {
     "data": {
      "text/plain": [
       "(150, 4)"
      ]
     },
     "execution_count": 45,
     "metadata": {},
     "output_type": "execute_result"
    }
   ],
   "source": [
    "from sklearn.datasets import load_iris\n",
    "data = load_iris()\n",
    "data['data'].shape\n",
    "\n",
    "# Explanation:\n",
    "# Output displays amount of rows & columns in the dataset (Source: https://www.w3schools.com/python/pandas/ref_df_shape.asp)\n",
    "# In this case, there are 150 rows & 4 columns within the dataset."
   ]
  },
  {
   "cell_type": "markdown",
   "metadata": {},
   "source": [
    "# First & last 5 rows of the data"
   ]
  },
  {
   "cell_type": "code",
   "execution_count": 46,
   "metadata": {},
   "outputs": [
    {
     "data": {
      "text/html": [
       "<div>\n",
       "<style scoped>\n",
       "    .dataframe tbody tr th:only-of-type {\n",
       "        vertical-align: middle;\n",
       "    }\n",
       "\n",
       "    .dataframe tbody tr th {\n",
       "        vertical-align: top;\n",
       "    }\n",
       "\n",
       "    .dataframe thead th {\n",
       "        text-align: right;\n",
       "    }\n",
       "</style>\n",
       "<table border=\"1\" class=\"dataframe\">\n",
       "  <thead>\n",
       "    <tr style=\"text-align: right;\">\n",
       "      <th></th>\n",
       "      <th>sepal_length</th>\n",
       "      <th>sepal_width</th>\n",
       "      <th>petal_length</th>\n",
       "      <th>petal_width</th>\n",
       "      <th>species</th>\n",
       "    </tr>\n",
       "  </thead>\n",
       "  <tbody>\n",
       "    <tr>\n",
       "      <th>0</th>\n",
       "      <td>5.1</td>\n",
       "      <td>3.5</td>\n",
       "      <td>1.4</td>\n",
       "      <td>0.2</td>\n",
       "      <td>setosa</td>\n",
       "    </tr>\n",
       "    <tr>\n",
       "      <th>1</th>\n",
       "      <td>4.9</td>\n",
       "      <td>3.0</td>\n",
       "      <td>1.4</td>\n",
       "      <td>0.2</td>\n",
       "      <td>setosa</td>\n",
       "    </tr>\n",
       "    <tr>\n",
       "      <th>2</th>\n",
       "      <td>4.7</td>\n",
       "      <td>3.2</td>\n",
       "      <td>1.3</td>\n",
       "      <td>0.2</td>\n",
       "      <td>setosa</td>\n",
       "    </tr>\n",
       "    <tr>\n",
       "      <th>3</th>\n",
       "      <td>4.6</td>\n",
       "      <td>3.1</td>\n",
       "      <td>1.5</td>\n",
       "      <td>0.2</td>\n",
       "      <td>setosa</td>\n",
       "    </tr>\n",
       "    <tr>\n",
       "      <th>4</th>\n",
       "      <td>5.0</td>\n",
       "      <td>3.6</td>\n",
       "      <td>1.4</td>\n",
       "      <td>0.2</td>\n",
       "      <td>setosa</td>\n",
       "    </tr>\n",
       "    <tr>\n",
       "      <th>...</th>\n",
       "      <td>...</td>\n",
       "      <td>...</td>\n",
       "      <td>...</td>\n",
       "      <td>...</td>\n",
       "      <td>...</td>\n",
       "    </tr>\n",
       "    <tr>\n",
       "      <th>145</th>\n",
       "      <td>6.7</td>\n",
       "      <td>3.0</td>\n",
       "      <td>5.2</td>\n",
       "      <td>2.3</td>\n",
       "      <td>virginica</td>\n",
       "    </tr>\n",
       "    <tr>\n",
       "      <th>146</th>\n",
       "      <td>6.3</td>\n",
       "      <td>2.5</td>\n",
       "      <td>5.0</td>\n",
       "      <td>1.9</td>\n",
       "      <td>virginica</td>\n",
       "    </tr>\n",
       "    <tr>\n",
       "      <th>147</th>\n",
       "      <td>6.5</td>\n",
       "      <td>3.0</td>\n",
       "      <td>5.2</td>\n",
       "      <td>2.0</td>\n",
       "      <td>virginica</td>\n",
       "    </tr>\n",
       "    <tr>\n",
       "      <th>148</th>\n",
       "      <td>6.2</td>\n",
       "      <td>3.4</td>\n",
       "      <td>5.4</td>\n",
       "      <td>2.3</td>\n",
       "      <td>virginica</td>\n",
       "    </tr>\n",
       "    <tr>\n",
       "      <th>149</th>\n",
       "      <td>5.9</td>\n",
       "      <td>3.0</td>\n",
       "      <td>5.1</td>\n",
       "      <td>1.8</td>\n",
       "      <td>virginica</td>\n",
       "    </tr>\n",
       "  </tbody>\n",
       "</table>\n",
       "<p>150 rows × 5 columns</p>\n",
       "</div>"
      ],
      "text/plain": [
       "     sepal_length  sepal_width  petal_length  petal_width    species\n",
       "0             5.1          3.5           1.4          0.2     setosa\n",
       "1             4.9          3.0           1.4          0.2     setosa\n",
       "2             4.7          3.2           1.3          0.2     setosa\n",
       "3             4.6          3.1           1.5          0.2     setosa\n",
       "4             5.0          3.6           1.4          0.2     setosa\n",
       "..            ...          ...           ...          ...        ...\n",
       "145           6.7          3.0           5.2          2.3  virginica\n",
       "146           6.3          2.5           5.0          1.9  virginica\n",
       "147           6.5          3.0           5.2          2.0  virginica\n",
       "148           6.2          3.4           5.4          2.3  virginica\n",
       "149           5.9          3.0           5.1          1.8  virginica\n",
       "\n",
       "[150 rows x 5 columns]"
      ]
     },
     "execution_count": 46,
     "metadata": {},
     "output_type": "execute_result"
    }
   ],
   "source": [
    "# import data via PANDAS\n",
    "df = pd.read_csv(\"https://gist.githubusercontent.com/curran/a08a1080b88344b0c8a7/raw/0e7a9b0a5d22642a06d3d5b9bcbad9890c8ee534/iris.csv\")\n",
    "\n",
    "# View dataset\n",
    "df\n",
    "\n",
    "# Explanation:\n",
    "# The first 5 rows contain data on 5 individual plants of the setosa species. \n",
    "# The data pertaining to the setosa species includes: sepal length, sepal width, petal length and petal width. \n",
    "# The last 5 rows contains data on 5 individual plants of the viriginica species.\n",
    "# The data pertaining to the virginica species includes: sepal length, sepal width, petal length and petal width."
   ]
  },
  {
   "cell_type": "markdown",
   "metadata": {},
   "source": [
    "# Feature names:"
   ]
  },
  {
   "cell_type": "code",
   "execution_count": 47,
   "metadata": {},
   "outputs": [
    {
     "data": {
      "text/plain": [
       "['sepal length (cm)',\n",
       " 'sepal width (cm)',\n",
       " 'petal length (cm)',\n",
       " 'petal width (cm)']"
      ]
     },
     "execution_count": 47,
     "metadata": {},
     "output_type": "execute_result"
    }
   ],
   "source": [
    "data['feature_names']\n",
    "\n",
    "# Explanation:\n",
    "# There are four features in the dataset, containing individual information on each iris plant.\n",
    "# The feature names include: sepal length, sepal width, petal length, petal width measured in cms."
   ]
  },
  {
   "cell_type": "markdown",
   "metadata": {},
   "source": [
    "# Target classes:"
   ]
  },
  {
   "cell_type": "code",
   "execution_count": null,
   "metadata": {},
   "outputs": [
    {
     "data": {
      "text/plain": [
       "array(['setosa', 'versicolor', 'virginica'], dtype='<U10')"
      ]
     },
     "execution_count": 48,
     "metadata": {},
     "output_type": "execute_result"
    }
   ],
   "source": [
    "data['target_names']\n",
    "\n",
    "# Explanation:\n",
    "# The target classes of the dataset include 3 types of the iris plant: setosa, versicolor, virginica."
   ]
  },
  {
   "cell_type": "markdown",
   "metadata": {},
   "source": [
    "<h1><center>Task 3: Summarize the Data</center></h1>\n",
    "\n",
    "Instructions: For each feature in the dataset, calculate and display:\n",
    "- mean\n",
    "- minimum\n",
    "- maximum\n",
    "- standard deviation\n",
    "- median"
   ]
  },
  {
   "cell_type": "markdown",
   "metadata": {},
   "source": [
    "There are two methods that I will use to carry out this task. 1. Describe() function & 2. Calculating descriptives using NumPy."
   ]
  },
  {
   "cell_type": "code",
   "execution_count": 49,
   "metadata": {},
   "outputs": [],
   "source": [
    "# Import NumPy\n",
    "import numpy as np"
   ]
  },
  {
   "cell_type": "markdown",
   "metadata": {},
   "source": [
    "# Describe() Function"
   ]
  },
  {
   "cell_type": "code",
   "execution_count": 50,
   "metadata": {},
   "outputs": [
    {
     "data": {
      "text/html": [
       "<div>\n",
       "<style scoped>\n",
       "    .dataframe tbody tr th:only-of-type {\n",
       "        vertical-align: middle;\n",
       "    }\n",
       "\n",
       "    .dataframe tbody tr th {\n",
       "        vertical-align: top;\n",
       "    }\n",
       "\n",
       "    .dataframe thead th {\n",
       "        text-align: right;\n",
       "    }\n",
       "</style>\n",
       "<table border=\"1\" class=\"dataframe\">\n",
       "  <thead>\n",
       "    <tr style=\"text-align: right;\">\n",
       "      <th></th>\n",
       "      <th>sepal_length</th>\n",
       "      <th>sepal_width</th>\n",
       "      <th>petal_length</th>\n",
       "      <th>petal_width</th>\n",
       "    </tr>\n",
       "  </thead>\n",
       "  <tbody>\n",
       "    <tr>\n",
       "      <th>count</th>\n",
       "      <td>150.000000</td>\n",
       "      <td>150.000000</td>\n",
       "      <td>150.000000</td>\n",
       "      <td>150.000000</td>\n",
       "    </tr>\n",
       "    <tr>\n",
       "      <th>mean</th>\n",
       "      <td>5.843333</td>\n",
       "      <td>3.054000</td>\n",
       "      <td>3.758667</td>\n",
       "      <td>1.198667</td>\n",
       "    </tr>\n",
       "    <tr>\n",
       "      <th>std</th>\n",
       "      <td>0.828066</td>\n",
       "      <td>0.433594</td>\n",
       "      <td>1.764420</td>\n",
       "      <td>0.763161</td>\n",
       "    </tr>\n",
       "    <tr>\n",
       "      <th>min</th>\n",
       "      <td>4.300000</td>\n",
       "      <td>2.000000</td>\n",
       "      <td>1.000000</td>\n",
       "      <td>0.100000</td>\n",
       "    </tr>\n",
       "    <tr>\n",
       "      <th>25%</th>\n",
       "      <td>5.100000</td>\n",
       "      <td>2.800000</td>\n",
       "      <td>1.600000</td>\n",
       "      <td>0.300000</td>\n",
       "    </tr>\n",
       "    <tr>\n",
       "      <th>50%</th>\n",
       "      <td>5.800000</td>\n",
       "      <td>3.000000</td>\n",
       "      <td>4.350000</td>\n",
       "      <td>1.300000</td>\n",
       "    </tr>\n",
       "    <tr>\n",
       "      <th>75%</th>\n",
       "      <td>6.400000</td>\n",
       "      <td>3.300000</td>\n",
       "      <td>5.100000</td>\n",
       "      <td>1.800000</td>\n",
       "    </tr>\n",
       "    <tr>\n",
       "      <th>max</th>\n",
       "      <td>7.900000</td>\n",
       "      <td>4.400000</td>\n",
       "      <td>6.900000</td>\n",
       "      <td>2.500000</td>\n",
       "    </tr>\n",
       "  </tbody>\n",
       "</table>\n",
       "</div>"
      ],
      "text/plain": [
       "       sepal_length  sepal_width  petal_length  petal_width\n",
       "count    150.000000   150.000000    150.000000   150.000000\n",
       "mean       5.843333     3.054000      3.758667     1.198667\n",
       "std        0.828066     0.433594      1.764420     0.763161\n",
       "min        4.300000     2.000000      1.000000     0.100000\n",
       "25%        5.100000     2.800000      1.600000     0.300000\n",
       "50%        5.800000     3.000000      4.350000     1.300000\n",
       "75%        6.400000     3.300000      5.100000     1.800000\n",
       "max        7.900000     4.400000      6.900000     2.500000"
      ]
     },
     "execution_count": 50,
     "metadata": {},
     "output_type": "execute_result"
    }
   ],
   "source": [
    "# Source = https://pandas.pydata.org/pandas-docs/stable/reference/api/pandas.DataFrame.describe.html\n",
    "\n",
    "# Load iris dataset via PANDAS\n",
    "df = pd.read_csv(\"https://gist.githubusercontent.com/curran/a08a1080b88344b0c8a7/raw/0e7a9b0a5d22642a06d3d5b9bcbad9890c8ee534/iris.csv\")\n",
    "\n",
    "# View descriptive statistics\n",
    "df.describe()"
   ]
  },
  {
   "cell_type": "markdown",
   "metadata": {},
   "source": [
    "Output displays descriptive statistics for each feature in the Iris dataset including: mean, minimum, maximum, standard deviation & median."
   ]
  },
  {
   "cell_type": "markdown",
   "metadata": {},
   "source": [
    "# NumPy"
   ]
  },
  {
   "cell_type": "code",
   "execution_count": 95,
   "metadata": {},
   "outputs": [],
   "source": [
    "# Import & run dataset to access index/columns\n",
    "\n",
    "data = np.array([[5.1, 3.5, 1.4, 0.2],\n",
    "                [4.9, 3. , 1.4, 0.2],\n",
    "                [4.7, 3.2, 1.3, 0.2],\n",
    "                [4.6, 3.1, 1.5, 0.2],\n",
    "                [5. , 3.6, 1.4, 0.2],\n",
    "                [5.4, 3.9, 1.7, 0.4],\n",
    "                [4.6, 3.4, 1.4, 0.3],\n",
    "                [5. , 3.4, 1.5, 0.2],\n",
    "                [4.4, 2.9, 1.4, 0.2],\n",
    "                [4.9, 3.1, 1.5, 0.1],\n",
    "                [5.4, 3.7, 1.5, 0.2],\n",
    "                [4.8, 3.4, 1.6, 0.2],\n",
    "                [4.8, 3. , 1.4, 0.1],\n",
    "                [4.3, 3. , 1.1, 0.1],\n",
    "                [5.8, 4. , 1.2, 0.2],\n",
    "                [5.7, 4.4, 1.5, 0.4],\n",
    "                [5.4, 3.9, 1.3, 0.4],\n",
    "                [5.1, 3.5, 1.4, 0.3],\n",
    "                [5.7, 3.8, 1.7, 0.3],\n",
    "                [5.1, 3.8, 1.5, 0.3],\n",
    "                [5.4, 3.4, 1.7, 0.2],\n",
    "                [5.1, 3.7, 1.5, 0.4],\n",
    "                [4.6, 3.6, 1. , 0.2],\n",
    "                [5.1, 3.3, 1.7, 0.5],\n",
    "                [4.8, 3.4, 1.9, 0.2],\n",
    "                [5. , 3. , 1.6, 0.2],\n",
    "                [5. , 3.4, 1.6, 0.4],\n",
    "                [5.2, 3.5, 1.5, 0.2],\n",
    "                [5.2, 3.4, 1.4, 0.2],\n",
    "                [4.7, 3.2, 1.6, 0.2],\n",
    "                [4.8, 3.1, 1.6, 0.2],\n",
    "                [5.4, 3.4, 1.5, 0.4],\n",
    "                [5.2, 4.1, 1.5, 0.1],\n",
    "                [5.5, 4.2, 1.4, 0.2],\n",
    "                [4.9, 3.1, 1.5, 0.2],\n",
    "                [5. , 3.2, 1.2, 0.2],\n",
    "                [5.5, 3.5, 1.3, 0.2],\n",
    "                [4.9, 3.6, 1.4, 0.1],\n",
    "                [4.4, 3. , 1.3, 0.2],\n",
    "                [5.1, 3.4, 1.5, 0.2],\n",
    "                [5. , 3.5, 1.3, 0.3],\n",
    "                [4.5, 2.3, 1.3, 0.3],\n",
    "                [4.4, 3.2, 1.3, 0.2],\n",
    "                [5. , 3.5, 1.6, 0.6],\n",
    "                [5.1, 3.8, 1.9, 0.4],\n",
    "                [4.8, 3. , 1.4, 0.3],\n",
    "                [5.1, 3.8, 1.6, 0.2],\n",
    "                [4.6, 3.2, 1.4, 0.2],\n",
    "                [5.3, 3.7, 1.5, 0.2],\n",
    "                [5. , 3.3, 1.4, 0.2],\n",
    "                [7. , 3.2, 4.7, 1.4],\n",
    "                [6.4, 3.2, 4.5, 1.5],\n",
    "                [6.9, 3.1, 4.9, 1.5],\n",
    "                [5.5, 2.3, 4. , 1.3],\n",
    "                [6.5, 2.8, 4.6, 1.5],\n",
    "                [5.7, 2.8, 4.5, 1.3],\n",
    "                [6.3, 3.3, 4.7, 1.6],\n",
    "                [4.9, 2.4, 3.3, 1. ],\n",
    "                [6.6, 2.9, 4.6, 1.3],\n",
    "                [5.2, 2.7, 3.9, 1.4],\n",
    "                [5. , 2. , 3.5, 1. ],\n",
    "                [5.9, 3. , 4.2, 1.5],\n",
    "                [6. , 2.2, 4. , 1. ],\n",
    "                [6.1, 2.9, 4.7, 1.4],\n",
    "                [5.6, 2.9, 3.6, 1.3],\n",
    "                [6.7, 3.1, 4.4, 1.4],\n",
    "                [5.6, 3. , 4.5, 1.5],\n",
    "                [5.8, 2.7, 4.1, 1. ],\n",
    "                [6.2, 2.2, 4.5, 1.5],\n",
    "                [5.6, 2.5, 3.9, 1.1],\n",
    "                [5.9, 3.2, 4.8, 1.8],\n",
    "                [6.1, 2.8, 4. , 1.3],\n",
    "                [6.3, 2.5, 4.9, 1.5],\n",
    "                [6.1, 2.8, 4.7, 1.2],\n",
    "                [6.4, 2.9, 4.3, 1.3],\n",
    "                [6.6, 3. , 4.4, 1.4],\n",
    "                [6.8, 2.8, 4.8, 1.4],\n",
    "                [6.7, 3. , 5. , 1.7],\n",
    "                [6. , 2.9, 4.5, 1.5],\n",
    "                [5.7, 2.6, 3.5, 1. ],\n",
    "                [5.5, 2.4, 3.8, 1.1],\n",
    "                [5.5, 2.4, 3.7, 1. ],\n",
    "                [5.8, 2.7, 3.9, 1.2],\n",
    "                [6. , 2.7, 5.1, 1.6],\n",
    "                [5.4, 3. , 4.5, 1.5],\n",
    "                [6. , 3.4, 4.5, 1.6],\n",
    "                [6.7, 3.1, 4.7, 1.5],\n",
    "                [6.3, 2.3, 4.4, 1.3],\n",
    "                [5.6, 3. , 4.1, 1.3],\n",
    "                [5.5, 2.5, 4. , 1.3],\n",
    "                [5.5, 2.6, 4.4, 1.2],\n",
    "                [6.1, 3. , 4.6, 1.4],\n",
    "                [5.8, 2.6, 4. , 1.2],\n",
    "                [5. , 2.3, 3.3, 1. ],\n",
    "                [5.6, 2.7, 4.2, 1.3],\n",
    "                [5.7, 3. , 4.2, 1.2],\n",
    "                [5.7, 2.9, 4.2, 1.3],\n",
    "                [6.2, 2.9, 4.3, 1.3],\n",
    "                [5.1, 2.5, 3. , 1.1],\n",
    "                [5.7, 2.8, 4.1, 1.3],\n",
    "                [6.3, 3.3, 6. , 2.5],\n",
    "                [5.8, 2.7, 5.1, 1.9],\n",
    "                [7.1, 3. , 5.9, 2.1],\n",
    "                [6.3, 2.9, 5.6, 1.8],\n",
    "                [6.5, 3. , 5.8, 2.2],\n",
    "                [7.6, 3. , 6.6, 2.1],\n",
    "                [4.9, 2.5, 4.5, 1.7],\n",
    "                [7.3, 2.9, 6.3, 1.8],\n",
    "                [6.7, 2.5, 5.8, 1.8],\n",
    "                [7.2, 3.6, 6.1, 2.5],\n",
    "                [6.5, 3.2, 5.1, 2. ],\n",
    "                [6.4, 2.7, 5.3, 1.9],\n",
    "                [6.8, 3. , 5.5, 2.1],\n",
    "                [5.7, 2.5, 5. , 2. ],\n",
    "                [5.8, 2.8, 5.1, 2.4],\n",
    "                [6.4, 3.2, 5.3, 2.3],\n",
    "                [6.5, 3. , 5.5, 1.8],\n",
    "                [7.7, 3.8, 6.7, 2.2],\n",
    "                [7.7, 2.6, 6.9, 2.3],\n",
    "                [6. , 2.2, 5. , 1.5],\n",
    "                [6.9, 3.2, 5.7, 2.3],\n",
    "                [5.6, 2.8, 4.9, 2. ],\n",
    "                [7.7, 2.8, 6.7, 2. ],\n",
    "                [6.3, 2.7, 4.9, 1.8],\n",
    "                [6.7, 3.3, 5.7, 2.1],\n",
    "                [7.2, 3.2, 6. , 1.8],\n",
    "                [6.2, 2.8, 4.8, 1.8],\n",
    "                [6.1, 3. , 4.9, 1.8],\n",
    "                [6.4, 2.8, 5.6, 2.1],\n",
    "                [7.2, 3. , 5.8, 1.6],\n",
    "                [7.4, 2.8, 6.1, 1.9],\n",
    "                [7.9, 3.8, 6.4, 2. ],\n",
    "                [6.4, 2.8, 5.6, 2.2],\n",
    "                [6.3, 2.8, 5.1, 1.5],\n",
    "                [6.1, 2.6, 5.6, 1.4],\n",
    "                [7.7, 3. , 6.1, 2.3],\n",
    "                [6.3, 3.4, 5.6, 2.4],\n",
    "                [6.4, 3.1, 5.5, 1.8],\n",
    "                [6. , 3. , 4.8, 1.8],\n",
    "                [6.9, 3.1, 5.4, 2.1],\n",
    "                [6.7, 3.1, 5.6, 2.4],\n",
    "                [6.9, 3.1, 5.1, 2.3],\n",
    "                [5.8, 2.7, 5.1, 1.9],\n",
    "                [6.8, 3.2, 5.9, 2.3],\n",
    "                [6.7, 3.3, 5.7, 2.5],\n",
    "                [6.7, 3. , 5.2, 2.3],\n",
    "                [6.3, 2.5, 5. , 1.9],\n",
    "                [6.5, 3. , 5.2, 2. ],\n",
    "                [6.2, 3.4, 5.4, 2.3],\n",
    "                [5.9, 3. , 5.1, 1.8]])"
   ]
  },
  {
   "cell_type": "markdown",
   "metadata": {},
   "source": [
    "# sepal_length - Mean"
   ]
  },
  {
   "cell_type": "code",
   "execution_count": null,
   "metadata": {},
   "outputs": [
    {
     "name": "stdout",
     "output_type": "stream",
     "text": [
      "Mean of sepal_lenght: 5.843333333333334\n"
     ]
    }
   ],
   "source": [
    "# Access the index of the feature\n",
    "feature_index = 0 \n",
    "\n",
    "# np.mean(), calculates the mean\n",
    "mean_value = np.mean(data[:, feature_index])\n",
    "\n",
    "#print(\"Mean of sepal length:\", mean_value)\n",
    "\n",
    "# Cleaner version\n",
    "print(f\"Mean of sepal_lenght: {mean_value}\")\n",
    "\n",
    "#Source: https://chatgpt.com/share/67c5edc5-29f4-8011-b7b2-125d531b9992"
   ]
  },
  {
   "cell_type": "markdown",
   "metadata": {},
   "source": [
    "# sepal_length - Min & Max"
   ]
  },
  {
   "cell_type": "code",
   "execution_count": 72,
   "metadata": {},
   "outputs": [
    {
     "name": "stdout",
     "output_type": "stream",
     "text": [
      "Minimum: 4.3, Maximum: 7.9\n"
     ]
    }
   ],
   "source": [
    "feature_column = 0\n",
    "\n",
    "min_value = np.min(data[:, feature_column])  # Minimum value\n",
    "max_value = np.max(data[:, feature_column])  # Maximum value\n",
    "\n",
    "print(f\"Minimum: {min_value}, Maximum: {max_value}\")\n",
    "\n",
    "#Source: https://chatgpt.com/share/67c5f51c-d6ac-8011-b412-add5b5c39264"
   ]
  },
  {
   "cell_type": "markdown",
   "metadata": {},
   "source": [
    "# sepal_length - Standard Deviation"
   ]
  },
  {
   "cell_type": "code",
   "execution_count": null,
   "metadata": {},
   "outputs": [
    {
     "name": "stdout",
     "output_type": "stream",
     "text": [
      "Population standard deviation for sepal_length is 0.8253012917851409\n",
      "Sample standard deviation for sepal_length is 0.828066127977863\n"
     ]
    }
   ],
   "source": [
    "# Specify feature index\n",
    "feature_index = 0\n",
    "\n",
    "# To calculate sample std use NumPy-style slicing to extract column as 1D array\n",
    "feature_column = data[:, feature_index]\n",
    "\n",
    "# Computes standard deviation\n",
    "std_dev = np.std(data[:, feature_index], ddof=0)  # ddof=0 for population std dev\n",
    "sample_std = np.std(feature_column, ddof=1) # ddof=1 for sample std dev; Besseel's correction (-1) used to reduce bias\n",
    "\n",
    "print(f\"Population standard deviation for sepal_length is {std_dev}\")\n",
    "print(f\"Sample standard deviation for sepal_length is {sample_std}\")\n",
    "\n",
    "# Sources: https://chatgpt.com/share/67c75fb9-0f10-8011-8894-aaeb1047ac13\n",
    "# https://chatgpt.com/share/67c76386-05c8-8011-8ea8-ed8c82322fcd\n",
    "# https://chatgpt.com/share/67c763d8-4830-8011-9b4c-0e1bea83ad9d\n",
    "# https://chatgpt.com/share/67c7650c-48bc-8011-9215-6175c53a2254"
   ]
  },
  {
   "cell_type": "markdown",
   "metadata": {},
   "source": [
    "# sepal_length - Median"
   ]
  },
  {
   "cell_type": "code",
   "execution_count": null,
   "metadata": {},
   "outputs": [
    {
     "name": "stdout",
     "output_type": "stream",
     "text": [
      "Median of sepal_lenght is 5.8\n"
     ]
    }
   ],
   "source": [
    "# Index of feature\n",
    "feature_index = 0\n",
    "\n",
    "# extract column \n",
    "feature_column = data[:, feature_index] \n",
    "\n",
    "# Calculates median\n",
    "median_value = np.median(feature_column)\n",
    "\n",
    "print(f\"Median of sepal_lenght is {median_value}\")\n",
    "\n",
    "# Source: https://numpy.org/doc/stable/reference/generated/numpy.median.html"
   ]
  },
  {
   "cell_type": "markdown",
   "metadata": {},
   "source": [
    "# sepal_width - Mean"
   ]
  },
  {
   "cell_type": "code",
   "execution_count": null,
   "metadata": {},
   "outputs": [
    {
     "name": "stdout",
     "output_type": "stream",
     "text": [
      "Mean of sepal width: 3.0573333333333337\n"
     ]
    }
   ],
   "source": [
    "# Index of feature\n",
    "feature_index = 1\n",
    "\n",
    "# Calculates the mean\n",
    "mean_value = np.mean(data[:, feature_index])\n",
    "\n",
    "print(\"Mean of sepal width:\", mean_value)\n",
    "\n",
    "#Source: https://chatgpt.com/share/67c5edc5-29f4-8011-b7b2-125d531b9992"
   ]
  },
  {
   "cell_type": "markdown",
   "metadata": {},
   "source": [
    "# sepal_width - Min & Max"
   ]
  },
  {
   "cell_type": "code",
   "execution_count": null,
   "metadata": {},
   "outputs": [
    {
     "name": "stdout",
     "output_type": "stream",
     "text": [
      "Minimum: 2.0, Maximum: 4.4\n"
     ]
    }
   ],
   "source": [
    "feature_column = 1\n",
    "\n",
    "min_value = np.min(data[:, feature_column])  # Minimum value\n",
    "max_value = np.max(data[:, feature_column])  # Maximum value\n",
    "\n",
    "print(f\"Minimum: {min_value}, Maximum: {max_value}\")\n",
    "\n",
    "#Source: https://chatgpt.com/share/67c5f51c-d6ac-8011-b412-add5b5c39264"
   ]
  },
  {
   "cell_type": "markdown",
   "metadata": {},
   "source": [
    "# sepal_width - Standard Deviation"
   ]
  },
  {
   "cell_type": "code",
   "execution_count": null,
   "metadata": {},
   "outputs": [
    {
     "name": "stdout",
     "output_type": "stream",
     "text": [
      "Population standard deviation for sepal_width is 0.4344109677354946\n",
      "Sample standard deviation for sepal_width is 0.4358662849366982\n"
     ]
    }
   ],
   "source": [
    "# Specify feature index\n",
    "feature_index = 1\n",
    "\n",
    "# To calculate sample std use NumPy-style slicing to extract column as 1D array\n",
    "feature_column = data[:, feature_index]\n",
    "\n",
    "# Computes standard deviation\n",
    "std_dev = np.std(data[:, feature_index], ddof=0)  # ddof=0 for population std dev\n",
    "sample_std = np.std(feature_column, ddof=1) # ddof=1 for sample std dev; Bessel's correction (-1) used to reduce bias\n",
    "\n",
    "print(f\"Population standard deviation for sepal_width is {std_dev}\")\n",
    "print(f\"Sample standard deviation for sepal_width is {sample_std}\")\n",
    "\n",
    "# Sources: https://chatgpt.com/share/67c75fb9-0f10-8011-8894-aaeb1047ac13\n",
    "# https://chatgpt.com/share/67c76386-05c8-8011-8ea8-ed8c82322fcd\n",
    "# https://chatgpt.com/share/67c763d8-4830-8011-9b4c-0e1bea83ad9d\n",
    "# https://chatgpt.com/share/67c7650c-48bc-8011-9215-6175c53a2254"
   ]
  },
  {
   "cell_type": "markdown",
   "metadata": {},
   "source": [
    "# sepal_width - Median"
   ]
  },
  {
   "cell_type": "code",
   "execution_count": null,
   "metadata": {},
   "outputs": [
    {
     "name": "stdout",
     "output_type": "stream",
     "text": [
      "Median of sepal_width is 3.0\n"
     ]
    }
   ],
   "source": [
    "# Index of feature\n",
    "feature_index = 1\n",
    "# extract column \n",
    "feature_column = data[:, feature_index] \n",
    "\n",
    "# Calculates median\n",
    "median_value = np.median(feature_column)\n",
    "\n",
    "print(f\"Median of sepal_width is {median_value}\")\n",
    "\n",
    "# Source: https://numpy.org/doc/stable/reference/generated/numpy.median.html"
   ]
  },
  {
   "cell_type": "markdown",
   "metadata": {},
   "source": [
    "# petal_length - Mean"
   ]
  },
  {
   "cell_type": "code",
   "execution_count": null,
   "metadata": {},
   "outputs": [
    {
     "name": "stdout",
     "output_type": "stream",
     "text": [
      "Mean of petal length: 3.7580000000000005\n"
     ]
    }
   ],
   "source": [
    "# Index of feature\n",
    "feature_index = 2\n",
    "\n",
    "# Find the mean of feature\n",
    "mean_value = np.mean(data[:, feature_index])\n",
    "\n",
    "print(\"Mean of petal length:\", mean_value)\n",
    "\n",
    "#Source: https://chatgpt.com/share/67c5edc5-29f4-8011-b7b2-125d531b9992\n"
   ]
  },
  {
   "cell_type": "markdown",
   "metadata": {},
   "source": [
    "# petal_length - Min & Max"
   ]
  },
  {
   "cell_type": "code",
   "execution_count": null,
   "metadata": {},
   "outputs": [
    {
     "name": "stdout",
     "output_type": "stream",
     "text": [
      "Minimum: 1.0, Maximum: 6.9\n"
     ]
    }
   ],
   "source": [
    "feature_column = 2\n",
    "\n",
    "min_value = np.min(data[:, feature_column])  # Minimum value\n",
    "max_value = np.max(data[:, feature_column])  # Maximum value\n",
    "\n",
    "print(f\"Minimum: {min_value}, Maximum: {max_value}\")\n",
    "\n",
    "#Source: https://chatgpt.com/share/67c5f51c-d6ac-8011-b412-add5b5c39264"
   ]
  },
  {
   "cell_type": "markdown",
   "metadata": {},
   "source": [
    "# petal_length - Standard Deviation"
   ]
  },
  {
   "cell_type": "code",
   "execution_count": null,
   "metadata": {},
   "outputs": [
    {
     "name": "stdout",
     "output_type": "stream",
     "text": [
      "Population standard deviation for petal_length is 1.759404065775303\n",
      "Sample standard deviation for petal_length is 1.7652982332594662\n"
     ]
    }
   ],
   "source": [
    "# Specify feature index\n",
    "feature_index = 2\n",
    "\n",
    "# To calculate sample std use NumPy-style slicing to extract column as 1D array\n",
    "feature_column = data[:, feature_index]\n",
    "\n",
    "# Computes standard deviation\n",
    "std_dev = np.std(data[:, feature_index], ddof=0)  # ddof=0 for population std dev\n",
    "sample_std = np.std(feature_column, ddof=1) # ddof=1 for sample std dev; Besseel's correction (-1) used to reduce bias\n",
    "\n",
    "print(f\"Population standard deviation for petal_length is {std_dev}\")\n",
    "print(f\"Sample standard deviation for petal_length is {sample_std}\")\n",
    "\n",
    "# Sources: https://chatgpt.com/share/67c75fb9-0f10-8011-8894-aaeb1047ac13\n",
    "# https://chatgpt.com/share/67c76386-05c8-8011-8ea8-ed8c82322fcd\n",
    "# https://chatgpt.com/share/67c763d8-4830-8011-9b4c-0e1bea83ad9d\n",
    "# https://chatgpt.com/share/67c7650c-48bc-8011-9215-6175c53a2254"
   ]
  },
  {
   "cell_type": "markdown",
   "metadata": {},
   "source": [
    "# petal_length - Median"
   ]
  },
  {
   "cell_type": "code",
   "execution_count": null,
   "metadata": {},
   "outputs": [
    {
     "name": "stdout",
     "output_type": "stream",
     "text": [
      "Median of petal_lenght is 4.35\n"
     ]
    }
   ],
   "source": [
    "# Index of feature\n",
    "feature_index = 2\n",
    "# extract column \n",
    "feature_column = data[:, feature_index] \n",
    "\n",
    "# Calculates median\n",
    "median_value = np.median(feature_column)\n",
    "\n",
    "print(f\"Median of petal_lenght is {median_value}\")\n",
    "\n",
    "# Source: https://numpy.org/doc/stable/reference/generated/numpy.median.html"
   ]
  },
  {
   "cell_type": "markdown",
   "metadata": {},
   "source": [
    "# petal_width - Mean"
   ]
  },
  {
   "cell_type": "code",
   "execution_count": null,
   "metadata": {},
   "outputs": [
    {
     "name": "stdout",
     "output_type": "stream",
     "text": [
      "Mean of petal width: 1.1993333333333336\n"
     ]
    }
   ],
   "source": [
    "# Index of feature\n",
    "feature_index = 3\n",
    "\n",
    "# Find the mean of feature\n",
    "mean_value = np.mean(data[:, feature_index])\n",
    "\n",
    "print(\"Mean of petal width:\", mean_value)\n",
    "\n",
    "#Source: https://chatgpt.com/share/67c5edc5-29f4-8011-b7b2-125d531b9992"
   ]
  },
  {
   "cell_type": "markdown",
   "metadata": {},
   "source": [
    "# petal_width - Min & Max"
   ]
  },
  {
   "cell_type": "code",
   "execution_count": null,
   "metadata": {},
   "outputs": [
    {
     "name": "stdout",
     "output_type": "stream",
     "text": [
      "Minimum: 0.1, Maximum: 2.5\n"
     ]
    }
   ],
   "source": [
    "feature_column = 3\n",
    "\n",
    "min_value = np.min(data[:, feature_column])  # Minimum value\n",
    "max_value = np.max(data[:, feature_column])  # Maximum value\n",
    "\n",
    "print(f\"Minimum: {min_value}, Maximum: {max_value}\")\n",
    "\n",
    "#Source: https://chatgpt.com/share/67c5f51c-d6ac-8011-b412-add5b5c39264"
   ]
  },
  {
   "cell_type": "markdown",
   "metadata": {},
   "source": [
    "# petal_width - Standard Deviation"
   ]
  },
  {
   "cell_type": "code",
   "execution_count": null,
   "metadata": {},
   "outputs": [
    {
     "name": "stdout",
     "output_type": "stream",
     "text": [
      "Population standard deviation for petal_width is 0.7596926279021594\n",
      "Sample standard deviation for petal_width is 0.7622376689603465\n"
     ]
    }
   ],
   "source": [
    "# Specify feature index\n",
    "feature_index = 3\n",
    "\n",
    "# To calculate sample std use NumPy-style slicing to extract column as 1D array\n",
    "feature_column = data[:, feature_index]\n",
    "\n",
    "# Computes standard deviation\n",
    "std_dev = np.std(data[:, feature_index], ddof=0)  # ddof=0 for population std dev\n",
    "sample_std = np.std(feature_column, ddof=1) # ddof=1 for sample std dev; Besseel's correction (-1) used to reduce bias\n",
    "\n",
    "print(f\"Population standard deviation for petal_width is {std_dev}\")\n",
    "print(f\"Sample standard deviation for petal_width is {sample_std}\")\n",
    "\n",
    "# Sources: https://chatgpt.com/share/67c75fb9-0f10-8011-8894-aaeb1047ac13\n",
    "# https://chatgpt.com/share/67c76386-05c8-8011-8ea8-ed8c82322fcd\n",
    "# https://chatgpt.com/share/67c763d8-4830-8011-9b4c-0e1bea83ad9d\n",
    "# https://chatgpt.com/share/67c7650c-48bc-8011-9215-6175c53a2254"
   ]
  },
  {
   "cell_type": "markdown",
   "metadata": {},
   "source": [
    "# petal_width - Median"
   ]
  },
  {
   "cell_type": "code",
   "execution_count": null,
   "metadata": {},
   "outputs": [
    {
     "name": "stdout",
     "output_type": "stream",
     "text": [
      "Median of petal_width is 1.3\n"
     ]
    }
   ],
   "source": [
    "# Index of feature\n",
    "feature_index = 3\n",
    "# extract column \n",
    "feature_column = data[:, feature_index] \n",
    "\n",
    "# Calculates median\n",
    "median_value = np.median(feature_column)\n",
    "\n",
    "print(f\"Median of petal_width is {median_value}\")\n",
    "\n",
    "# Source: https://numpy.org/doc/stable/reference/generated/numpy.median.html"
   ]
  },
  {
   "cell_type": "markdown",
   "metadata": {},
   "source": [
    "<h1><center>Task 4: Visualize Features</center></h1>"
   ]
  },
  {
   "cell_type": "markdown",
   "metadata": {},
   "source": [
    "Instructions: Plot histograms for each feature using matplotlib.\n",
    "              Add appropriate titles and axis labels.\n",
    "\n",
    "Source for Histogram creation: https://matplotlib.org/stable/plot_types/stats/hist_plot.html#sphx-glr-plot-types-stats-hist-plot-py"
   ]
  },
  {
   "cell_type": "code",
   "execution_count": 87,
   "metadata": {},
   "outputs": [],
   "source": [
    "# Plots\n",
    "import matplotlib.pyplot as plt\n",
    "\n",
    "# Numerical arrays\n",
    "import numpy as np"
   ]
  },
  {
   "cell_type": "markdown",
   "metadata": {},
   "source": [
    "# sepal_length Histogram"
   ]
  },
  {
   "cell_type": "code",
   "execution_count": 98,
   "metadata": {},
   "outputs": [
    {
     "data": {
      "text/plain": [
       "Text(0.5, 1.0, 'Histogram of sepal_length')"
      ]
     },
     "execution_count": 98,
     "metadata": {},
     "output_type": "execute_result"
    },
    {
     "data": {
      "image/png": "[encoded data removed]",
      "text/plain": [
       "<Figure size 800x500 with 1 Axes>"
      ]
     },
     "metadata": {},
     "output_type": "display_data"
    }
   ],
   "source": [
    "# 1. Import matplotlib & PANDAS\n",
    "# 2. Import & load dataset\n",
    "\n",
    "# Select the feature/column to plot\n",
    "feature = df[\"sepal_length\"]\n",
    "\n",
    "# Create the histogram\n",
    "plt.figure(figsize=(8, 5)) # Sets hist size\n",
    "plt.hist(feature, bins=10, color='pink', edgecolor='blue', alpha=0.7)\n",
    "\n",
    "# Add title & labels to axis\n",
    "plt.xlabel(\"sepal_length Feature Value\")\n",
    "plt.ylabel(\"Frequency\")\n",
    "plt.title(\"Histogram of sepal_length\")\n",
    "\n",
    "# Show the plot (this does not need to be carried out as Jupyter already knows to display)\n",
    "# plt.show()\n",
    "\n",
    "# Source: https://chatgpt.com/share/67c8d1e3-e58c-8011-ba8d-42654ba25576"
   ]
  },
  {
   "cell_type": "markdown",
   "metadata": {},
   "source": [
    "# sepal_width Histogram"
   ]
  },
  {
   "cell_type": "code",
   "execution_count": 103,
   "metadata": {},
   "outputs": [
    {
     "data": {
      "text/plain": [
       "Text(0.5, 1.0, 'Histogram of sepal_width')"
      ]
     },
     "execution_count": 103,
     "metadata": {},
     "output_type": "execute_result"
    },
    {
     "data": {
      "image/png": "[encoded data removed]",
      "text/plain": [
       "<Figure size 800x500 with 1 Axes>"
      ]
     },
     "metadata": {},
     "output_type": "display_data"
    }
   ],
   "source": [
    "# 1. Import matplotlib & PANDAS\n",
    "# 2. Import & load dataset\n",
    "\n",
    "# Select the feature/column to plot\n",
    "feature = df[\"sepal_width\"]\n",
    "\n",
    "# Create the histogram\n",
    "plt.figure(figsize=(8, 5)) # Sets hist size\n",
    "plt.hist(feature, bins=10, color='red', edgecolor='yellow', alpha=0.7)\n",
    "\n",
    "# Add title & labels to axis\n",
    "plt.xlabel(\"sepal_width Feature Value\")\n",
    "plt.ylabel(\"Frequency\")\n",
    "plt.title(\"Histogram of sepal_width\")\n",
    "\n",
    "# Source: https://chatgpt.com/share/67c8d1e3-e58c-8011-ba8d-42654ba25576"
   ]
  },
  {
   "cell_type": "markdown",
   "metadata": {},
   "source": [
    "# petal_length Histogram"
   ]
  },
  {
   "cell_type": "code",
   "execution_count": 101,
   "metadata": {},
   "outputs": [
    {
     "data": {
      "text/plain": [
       "Text(0.5, 1.0, 'Histogram of petal_length')"
      ]
     },
     "execution_count": 101,
     "metadata": {},
     "output_type": "execute_result"
    },
    {
     "data": {
      "image/png": "[encoded data removed]",
      "text/plain": [
       "<Figure size 800x500 with 1 Axes>"
      ]
     },
     "metadata": {},
     "output_type": "display_data"
    }
   ],
   "source": [
    "# 1. Import matplotlib & PANDAS\n",
    "# 2. Import & load dataset\n",
    "\n",
    "# Select the feature/column to plot\n",
    "feature = df[\"petal_length\"]\n",
    "\n",
    "# Create the histogram\n",
    "plt.figure(figsize=(8, 5)) # Sets hist size\n",
    "plt.hist(feature, bins=10, color='black', edgecolor='pink', alpha=0.7)\n",
    "\n",
    "# Add title & labels to axis\n",
    "plt.xlabel(\"petal_length Feature Value\")\n",
    "plt.ylabel(\"Frequency\")\n",
    "plt.title(\"Histogram of petal_length\")\n",
    "\n",
    "# Source: https://chatgpt.com/share/67c8d1e3-e58c-8011-ba8d-42654ba25576"
   ]
  },
  {
   "cell_type": "markdown",
   "metadata": {},
   "source": [
    "# petal_width Histogram"
   ]
  },
  {
   "cell_type": "code",
   "execution_count": 105,
   "metadata": {},
   "outputs": [
    {
     "data": {
      "text/plain": [
       "Text(0.5, 1.0, 'Histogram of petal_width')"
      ]
     },
     "execution_count": 105,
     "metadata": {},
     "output_type": "execute_result"
    },
    {
     "data": {
      "image/png": "[encoded data removed]",
      "text/plain": [
       "<Figure size 800x500 with 1 Axes>"
      ]
     },
     "metadata": {},
     "output_type": "display_data"
    }
   ],
   "source": [
    "# 1. Import matplotlib & PANDAS\n",
    "# 2. Import & load dataset\n",
    "\n",
    "# Select the feature/column to plot\n",
    "feature = df[\"petal_width\"]\n",
    "\n",
    "# Create the histogram\n",
    "plt.figure(figsize=(8, 5)) # Sets hist size\n",
    "plt.hist(feature, bins=10, color='purple', edgecolor='pink', alpha=0.7)\n",
    "\n",
    "# Add title & labels to axis\n",
    "plt.xlabel(\"petal_width Feature Value\")\n",
    "plt.ylabel(\"Frequency\")\n",
    "plt.title(\"Histogram of petal_width\")\n",
    "\n",
    "# Source: https://chatgpt.com/share/67c8d1e3-e58c-8011-ba8d-42654ba25576"
   ]
  },
  {
   "cell_type": "markdown",
   "metadata": {},
   "source": [
    "<h1><center>Task 5: Investigate Relationships</center></h1>"
   ]
  },
  {
   "cell_type": "code",
   "execution_count": null,
   "metadata": {},
   "outputs": [],
   "source": []
  },
  {
   "cell_type": "markdown",
   "metadata": {},
   "source": [
    "<h1><center>Task 6: Analyze Relationship</center></h1>"
   ]
  },
  {
   "cell_type": "markdown",
   "metadata": {},
   "source": []
  },
  {
   "cell_type": "code",
   "execution_count": null,
   "metadata": {},
   "outputs": [],
   "source": []
  },
  {
   "cell_type": "markdown",
   "metadata": {},
   "source": [
    "<h1><center>Task 7: Analyze Class Distributions</center></h1>"
   ]
  },
  {
   "cell_type": "markdown",
   "metadata": {},
   "source": []
  },
  {
   "cell_type": "code",
   "execution_count": null,
   "metadata": {},
   "outputs": [],
   "source": []
  },
  {
   "cell_type": "markdown",
   "metadata": {},
   "source": [
    "<h1><center>Task 8: Compute Correlations</center></h1>"
   ]
  },
  {
   "cell_type": "markdown",
   "metadata": {},
   "source": []
  },
  {
   "cell_type": "code",
   "execution_count": null,
   "metadata": {},
   "outputs": [],
   "source": []
  },
  {
   "cell_type": "markdown",
   "metadata": {},
   "source": [
    "<h1><center>Task 9: Fit a Simple Linear Regression</center></h1>"
   ]
  },
  {
   "cell_type": "markdown",
   "metadata": {},
   "source": []
  },
  {
   "cell_type": "code",
   "execution_count": null,
   "metadata": {},
   "outputs": [],
   "source": []
  },
  {
   "cell_type": "markdown",
   "metadata": {},
   "source": [
    "<h1><center>Task 10: Too Many Features</center></h1> "
   ]
  },
  {
   "cell_type": "markdown",
   "metadata": {},
   "source": []
  },
  {
   "cell_type": "code",
   "execution_count": null,
   "metadata": {},
   "outputs": [],
   "source": []
  },
  {
   "cell_type": "markdown",
   "metadata": {},
   "source": [
    "## End of Notebook"
   ]
  }
 ],
 "metadata": {
  "kernelspec": {
   "display_name": "Python 3",
   "language": "python",
   "name": "python3"
  },
  "language_info": {
   "codemirror_mode": {
    "name": "ipython",
    "version": 3
   },
   "file_extension": ".py",
   "mimetype": "text/x-python",
   "name": "python",
   "nbconvert_exporter": "python",
   "pygments_lexer": "ipython3",
   "version": "3.12.1"
  }
 },
 "nbformat": 4,
 "nbformat_minor": 2
}
