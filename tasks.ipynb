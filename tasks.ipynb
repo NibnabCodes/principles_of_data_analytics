{
 "cells": [
  {
   "cell_type": "markdown",
   "metadata": {},
   "source": [
    "# <h1 align=\"center\"><b>Weekly Tasks</b></h1>\n",
    "\n"
   ]
  },
  {
   "cell_type": "markdown",
   "metadata": {},
   "source": [
    "NTS: input table of contents for easier navigation"
   ]
  },
  {
   "cell_type": "code",
   "execution_count": 425,
   "metadata": {},
   "outputs": [],
   "source": [
    "# Import of packages & libraries needed to run tasks\n",
    "\n",
    "# Data frames\n",
    "import pandas as pd\n",
    "\n",
    "# import data via PANDAS\n",
    "iris = pd.read_csv(\"https://gist.githubusercontent.com/curran/a08a1080b88344b0c8a7/raw/0e7a9b0a5d22642a06d3d5b9bcbad9890c8ee534/iris.csv\")\n",
    "\n",
    "# Machine Learning Library that contains example datasets.\n",
    "import sklearn as skl\n",
    "\n",
    "# Loads iris dataset from sklearn\n",
    "from sklearn.datasets import load_iris\n",
    "\n",
    "# Import NumPy\n",
    "import numpy as np\n",
    "\n",
    "# Plots\n",
    "import matplotlib.pyplot as plt\n",
    "\n",
    "# Library for making statistical graphics in Python\n",
    "import seaborn as sns \n",
    "\n",
    "# Allows the use of markdown in a code cell (for hyperlinks to references)\n",
    "from IPython.display import display, Markdown\n"
   ]
  },
  {
   "cell_type": "markdown",
   "metadata": {},
   "source": [
    "## <h2 align=\"center\">Task 1: Source the Dataset</h2>\n",
    "\n",
    "\n",
    "Instructions: Import the Iris data set from the sklearn.datasets module.\n",
    "              Explain, in your own words, what the load_iris() function returns."
   ]
  },
  {
   "cell_type": "code",
   "execution_count": 426,
   "metadata": {},
   "outputs": [
    {
     "data": {
      "text/plain": [
       "{'data': array([[5.1, 3.5, 1.4, 0.2],\n",
       "        [4.9, 3. , 1.4, 0.2],\n",
       "        [4.7, 3.2, 1.3, 0.2],\n",
       "        [4.6, 3.1, 1.5, 0.2],\n",
       "        [5. , 3.6, 1.4, 0.2],\n",
       "        [5.4, 3.9, 1.7, 0.4],\n",
       "        [4.6, 3.4, 1.4, 0.3],\n",
       "        [5. , 3.4, 1.5, 0.2],\n",
       "        [4.4, 2.9, 1.4, 0.2],\n",
       "        [4.9, 3.1, 1.5, 0.1],\n",
       "        [5.4, 3.7, 1.5, 0.2],\n",
       "        [4.8, 3.4, 1.6, 0.2],\n",
       "        [4.8, 3. , 1.4, 0.1],\n",
       "        [4.3, 3. , 1.1, 0.1],\n",
       "        [5.8, 4. , 1.2, 0.2],\n",
       "        [5.7, 4.4, 1.5, 0.4],\n",
       "        [5.4, 3.9, 1.3, 0.4],\n",
       "        [5.1, 3.5, 1.4, 0.3],\n",
       "        [5.7, 3.8, 1.7, 0.3],\n",
       "        [5.1, 3.8, 1.5, 0.3],\n",
       "        [5.4, 3.4, 1.7, 0.2],\n",
       "        [5.1, 3.7, 1.5, 0.4],\n",
       "        [4.6, 3.6, 1. , 0.2],\n",
       "        [5.1, 3.3, 1.7, 0.5],\n",
       "        [4.8, 3.4, 1.9, 0.2],\n",
       "        [5. , 3. , 1.6, 0.2],\n",
       "        [5. , 3.4, 1.6, 0.4],\n",
       "        [5.2, 3.5, 1.5, 0.2],\n",
       "        [5.2, 3.4, 1.4, 0.2],\n",
       "        [4.7, 3.2, 1.6, 0.2],\n",
       "        [4.8, 3.1, 1.6, 0.2],\n",
       "        [5.4, 3.4, 1.5, 0.4],\n",
       "        [5.2, 4.1, 1.5, 0.1],\n",
       "        [5.5, 4.2, 1.4, 0.2],\n",
       "        [4.9, 3.1, 1.5, 0.2],\n",
       "        [5. , 3.2, 1.2, 0.2],\n",
       "        [5.5, 3.5, 1.3, 0.2],\n",
       "        [4.9, 3.6, 1.4, 0.1],\n",
       "        [4.4, 3. , 1.3, 0.2],\n",
       "        [5.1, 3.4, 1.5, 0.2],\n",
       "        [5. , 3.5, 1.3, 0.3],\n",
       "        [4.5, 2.3, 1.3, 0.3],\n",
       "        [4.4, 3.2, 1.3, 0.2],\n",
       "        [5. , 3.5, 1.6, 0.6],\n",
       "        [5.1, 3.8, 1.9, 0.4],\n",
       "        [4.8, 3. , 1.4, 0.3],\n",
       "        [5.1, 3.8, 1.6, 0.2],\n",
       "        [4.6, 3.2, 1.4, 0.2],\n",
       "        [5.3, 3.7, 1.5, 0.2],\n",
       "        [5. , 3.3, 1.4, 0.2],\n",
       "        [7. , 3.2, 4.7, 1.4],\n",
       "        [6.4, 3.2, 4.5, 1.5],\n",
       "        [6.9, 3.1, 4.9, 1.5],\n",
       "        [5.5, 2.3, 4. , 1.3],\n",
       "        [6.5, 2.8, 4.6, 1.5],\n",
       "        [5.7, 2.8, 4.5, 1.3],\n",
       "        [6.3, 3.3, 4.7, 1.6],\n",
       "        [4.9, 2.4, 3.3, 1. ],\n",
       "        [6.6, 2.9, 4.6, 1.3],\n",
       "        [5.2, 2.7, 3.9, 1.4],\n",
       "        [5. , 2. , 3.5, 1. ],\n",
       "        [5.9, 3. , 4.2, 1.5],\n",
       "        [6. , 2.2, 4. , 1. ],\n",
       "        [6.1, 2.9, 4.7, 1.4],\n",
       "        [5.6, 2.9, 3.6, 1.3],\n",
       "        [6.7, 3.1, 4.4, 1.4],\n",
       "        [5.6, 3. , 4.5, 1.5],\n",
       "        [5.8, 2.7, 4.1, 1. ],\n",
       "        [6.2, 2.2, 4.5, 1.5],\n",
       "        [5.6, 2.5, 3.9, 1.1],\n",
       "        [5.9, 3.2, 4.8, 1.8],\n",
       "        [6.1, 2.8, 4. , 1.3],\n",
       "        [6.3, 2.5, 4.9, 1.5],\n",
       "        [6.1, 2.8, 4.7, 1.2],\n",
       "        [6.4, 2.9, 4.3, 1.3],\n",
       "        [6.6, 3. , 4.4, 1.4],\n",
       "        [6.8, 2.8, 4.8, 1.4],\n",
       "        [6.7, 3. , 5. , 1.7],\n",
       "        [6. , 2.9, 4.5, 1.5],\n",
       "        [5.7, 2.6, 3.5, 1. ],\n",
       "        [5.5, 2.4, 3.8, 1.1],\n",
       "        [5.5, 2.4, 3.7, 1. ],\n",
       "        [5.8, 2.7, 3.9, 1.2],\n",
       "        [6. , 2.7, 5.1, 1.6],\n",
       "        [5.4, 3. , 4.5, 1.5],\n",
       "        [6. , 3.4, 4.5, 1.6],\n",
       "        [6.7, 3.1, 4.7, 1.5],\n",
       "        [6.3, 2.3, 4.4, 1.3],\n",
       "        [5.6, 3. , 4.1, 1.3],\n",
       "        [5.5, 2.5, 4. , 1.3],\n",
       "        [5.5, 2.6, 4.4, 1.2],\n",
       "        [6.1, 3. , 4.6, 1.4],\n",
       "        [5.8, 2.6, 4. , 1.2],\n",
       "        [5. , 2.3, 3.3, 1. ],\n",
       "        [5.6, 2.7, 4.2, 1.3],\n",
       "        [5.7, 3. , 4.2, 1.2],\n",
       "        [5.7, 2.9, 4.2, 1.3],\n",
       "        [6.2, 2.9, 4.3, 1.3],\n",
       "        [5.1, 2.5, 3. , 1.1],\n",
       "        [5.7, 2.8, 4.1, 1.3],\n",
       "        [6.3, 3.3, 6. , 2.5],\n",
       "        [5.8, 2.7, 5.1, 1.9],\n",
       "        [7.1, 3. , 5.9, 2.1],\n",
       "        [6.3, 2.9, 5.6, 1.8],\n",
       "        [6.5, 3. , 5.8, 2.2],\n",
       "        [7.6, 3. , 6.6, 2.1],\n",
       "        [4.9, 2.5, 4.5, 1.7],\n",
       "        [7.3, 2.9, 6.3, 1.8],\n",
       "        [6.7, 2.5, 5.8, 1.8],\n",
       "        [7.2, 3.6, 6.1, 2.5],\n",
       "        [6.5, 3.2, 5.1, 2. ],\n",
       "        [6.4, 2.7, 5.3, 1.9],\n",
       "        [6.8, 3. , 5.5, 2.1],\n",
       "        [5.7, 2.5, 5. , 2. ],\n",
       "        [5.8, 2.8, 5.1, 2.4],\n",
       "        [6.4, 3.2, 5.3, 2.3],\n",
       "        [6.5, 3. , 5.5, 1.8],\n",
       "        [7.7, 3.8, 6.7, 2.2],\n",
       "        [7.7, 2.6, 6.9, 2.3],\n",
       "        [6. , 2.2, 5. , 1.5],\n",
       "        [6.9, 3.2, 5.7, 2.3],\n",
       "        [5.6, 2.8, 4.9, 2. ],\n",
       "        [7.7, 2.8, 6.7, 2. ],\n",
       "        [6.3, 2.7, 4.9, 1.8],\n",
       "        [6.7, 3.3, 5.7, 2.1],\n",
       "        [7.2, 3.2, 6. , 1.8],\n",
       "        [6.2, 2.8, 4.8, 1.8],\n",
       "        [6.1, 3. , 4.9, 1.8],\n",
       "        [6.4, 2.8, 5.6, 2.1],\n",
       "        [7.2, 3. , 5.8, 1.6],\n",
       "        [7.4, 2.8, 6.1, 1.9],\n",
       "        [7.9, 3.8, 6.4, 2. ],\n",
       "        [6.4, 2.8, 5.6, 2.2],\n",
       "        [6.3, 2.8, 5.1, 1.5],\n",
       "        [6.1, 2.6, 5.6, 1.4],\n",
       "        [7.7, 3. , 6.1, 2.3],\n",
       "        [6.3, 3.4, 5.6, 2.4],\n",
       "        [6.4, 3.1, 5.5, 1.8],\n",
       "        [6. , 3. , 4.8, 1.8],\n",
       "        [6.9, 3.1, 5.4, 2.1],\n",
       "        [6.7, 3.1, 5.6, 2.4],\n",
       "        [6.9, 3.1, 5.1, 2.3],\n",
       "        [5.8, 2.7, 5.1, 1.9],\n",
       "        [6.8, 3.2, 5.9, 2.3],\n",
       "        [6.7, 3.3, 5.7, 2.5],\n",
       "        [6.7, 3. , 5.2, 2.3],\n",
       "        [6.3, 2.5, 5. , 1.9],\n",
       "        [6.5, 3. , 5.2, 2. ],\n",
       "        [6.2, 3.4, 5.4, 2.3],\n",
       "        [5.9, 3. , 5.1, 1.8]]),\n",
       " 'target': array([0, 0, 0, 0, 0, 0, 0, 0, 0, 0, 0, 0, 0, 0, 0, 0, 0, 0, 0, 0, 0, 0,\n",
       "        0, 0, 0, 0, 0, 0, 0, 0, 0, 0, 0, 0, 0, 0, 0, 0, 0, 0, 0, 0, 0, 0,\n",
       "        0, 0, 0, 0, 0, 0, 1, 1, 1, 1, 1, 1, 1, 1, 1, 1, 1, 1, 1, 1, 1, 1,\n",
       "        1, 1, 1, 1, 1, 1, 1, 1, 1, 1, 1, 1, 1, 1, 1, 1, 1, 1, 1, 1, 1, 1,\n",
       "        1, 1, 1, 1, 1, 1, 1, 1, 1, 1, 1, 1, 2, 2, 2, 2, 2, 2, 2, 2, 2, 2,\n",
       "        2, 2, 2, 2, 2, 2, 2, 2, 2, 2, 2, 2, 2, 2, 2, 2, 2, 2, 2, 2, 2, 2,\n",
       "        2, 2, 2, 2, 2, 2, 2, 2, 2, 2, 2, 2, 2, 2, 2, 2, 2, 2]),\n",
       " 'frame': None,\n",
       " 'target_names': array(['setosa', 'versicolor', 'virginica'], dtype='<U10'),\n",
       " 'DESCR': '.. _iris_dataset:\\n\\nIris plants dataset\\n--------------------\\n\\n**Data Set Characteristics:**\\n\\n:Number of Instances: 150 (50 in each of three classes)\\n:Number of Attributes: 4 numeric, predictive attributes and the class\\n:Attribute Information:\\n    - sepal length in cm\\n    - sepal width in cm\\n    - petal length in cm\\n    - petal width in cm\\n    - class:\\n            - Iris-Setosa\\n            - Iris-Versicolour\\n            - Iris-Virginica\\n\\n:Summary Statistics:\\n\\n============== ==== ==== ======= ===== ====================\\n                Min  Max   Mean    SD   Class Correlation\\n============== ==== ==== ======= ===== ====================\\nsepal length:   4.3  7.9   5.84   0.83    0.7826\\nsepal width:    2.0  4.4   3.05   0.43   -0.4194\\npetal length:   1.0  6.9   3.76   1.76    0.9490  (high!)\\npetal width:    0.1  2.5   1.20   0.76    0.9565  (high!)\\n============== ==== ==== ======= ===== ====================\\n\\n:Missing Attribute Values: None\\n:Class Distribution: 33.3% for each of 3 classes.\\n:Creator: R.A. Fisher\\n:Donor: Michael Marshall (MARSHALL%PLU@io.arc.nasa.gov)\\n:Date: July, 1988\\n\\nThe famous Iris database, first used by Sir R.A. Fisher. The dataset is taken\\nfrom Fisher\\'s paper. Note that it\\'s the same as in R, but not as in the UCI\\nMachine Learning Repository, which has two wrong data points.\\n\\nThis is perhaps the best known database to be found in the\\npattern recognition literature.  Fisher\\'s paper is a classic in the field and\\nis referenced frequently to this day.  (See Duda & Hart, for example.)  The\\ndata set contains 3 classes of 50 instances each, where each class refers to a\\ntype of iris plant.  One class is linearly separable from the other 2; the\\nlatter are NOT linearly separable from each other.\\n\\n.. dropdown:: References\\n\\n  - Fisher, R.A. \"The use of multiple measurements in taxonomic problems\"\\n    Annual Eugenics, 7, Part II, 179-188 (1936); also in \"Contributions to\\n    Mathematical Statistics\" (John Wiley, NY, 1950).\\n  - Duda, R.O., & Hart, P.E. (1973) Pattern Classification and Scene Analysis.\\n    (Q327.D83) John Wiley & Sons.  ISBN 0-471-22361-1.  See page 218.\\n  - Dasarathy, B.V. (1980) \"Nosing Around the Neighborhood: A New System\\n    Structure and Classification Rule for Recognition in Partially Exposed\\n    Environments\".  IEEE Transactions on Pattern Analysis and Machine\\n    Intelligence, Vol. PAMI-2, No. 1, 67-71.\\n  - Gates, G.W. (1972) \"The Reduced Nearest Neighbor Rule\".  IEEE Transactions\\n    on Information Theory, May 1972, 431-433.\\n  - See also: 1988 MLC Proceedings, 54-64.  Cheeseman et al\"s AUTOCLASS II\\n    conceptual clustering system finds 3 classes in the data.\\n  - Many, many more ...\\n',\n",
       " 'feature_names': ['sepal length (cm)',\n",
       "  'sepal width (cm)',\n",
       "  'petal length (cm)',\n",
       "  'petal width (cm)'],\n",
       " 'filename': 'iris.csv',\n",
       " 'data_module': 'sklearn.datasets.data'}"
      ]
     },
     "execution_count": 426,
     "metadata": {},
     "output_type": "execute_result"
    }
   ],
   "source": [
    "# 1. Load iris dataset from sklearn\n",
    "\n",
    "data = load_iris()\n",
    "data"
   ]
  },
  {
   "cell_type": "markdown",
   "metadata": {},
   "source": [
    "The load_iris() function loads and returns the iris dataset. It returns the iris dataset as a dictionary like object."
   ]
  },
  {
   "cell_type": "markdown",
   "metadata": {},
   "source": [
    "## <h2 align=\"center\">Task 2: Explore the Data Structure</h2>\n",
    "\n",
    "Instructions: Print and explain the shape of the data set, the first and last 5 rows of the data, the feature names, and the target classes."
   ]
  },
  {
   "cell_type": "markdown",
   "metadata": {},
   "source": [
    "### Shape of the dataset"
   ]
  },
  {
   "cell_type": "code",
   "execution_count": 427,
   "metadata": {},
   "outputs": [
    {
     "data": {
      "text/plain": [
       "(150, 4)"
      ]
     },
     "execution_count": 427,
     "metadata": {},
     "output_type": "execute_result"
    }
   ],
   "source": [
    "data = load_iris()\n",
    "data['data'].shape\n",
    "\n",
    "# Explanation:\n",
    "# Output displays amount of rows & columns in the dataset (Source: https://www.w3schools.com/python/pandas/ref_df_shape.asp)\n",
    "# In this case, there are 150 rows & 4 columns within the dataset."
   ]
  },
  {
   "cell_type": "markdown",
   "metadata": {},
   "source": [
    "### First 5 rows of the data"
   ]
  },
  {
   "cell_type": "code",
   "execution_count": 428,
   "metadata": {},
   "outputs": [
    {
     "data": {
      "text/markdown": [
       "[See Official Documentation](https://pandas.pydata.org/docs/reference/api/pandas.DataFrame.head.html)"
      ],
      "text/plain": [
       "<IPython.core.display.Markdown object>"
      ]
     },
     "metadata": {},
     "output_type": "display_data"
    },
    {
     "name": "stdout",
     "output_type": "stream",
     "text": [
      "   sepal_length  sepal_width  petal_length  petal_width species\n",
      "0           5.1          3.5           1.4          0.2  setosa\n",
      "1           4.9          3.0           1.4          0.2  setosa\n",
      "2           4.7          3.2           1.3          0.2  setosa\n",
      "3           4.6          3.1           1.5          0.2  setosa\n",
      "4           5.0          3.6           1.4          0.2  setosa\n"
     ]
    }
   ],
   "source": [
    "# The pandas head(n=) function returns the first n rows specified. By default, it displays the first 5 rows if not otherwise specified.\n",
    "display(Markdown(\"[See Official Documentation](https://pandas.pydata.org/docs/reference/api/pandas.DataFrame.head.html)\"))\n",
    "\n",
    "print(iris.head(n=5))"
   ]
  },
  {
   "cell_type": "markdown",
   "metadata": {},
   "source": [
    "Explanation:\n",
    "The first 5 rows contain data on 5 individual plants of the setosa species. \n",
    "The data pertaining to the setosa species includes: sepal length, sepal width, petal length and petal width. "
   ]
  },
  {
   "cell_type": "markdown",
   "metadata": {},
   "source": [
    "### Last 5 rows of the data"
   ]
  },
  {
   "cell_type": "code",
   "execution_count": 429,
   "metadata": {},
   "outputs": [
    {
     "data": {
      "text/markdown": [
       "[See Official Documentation](https://pandas.pydata.org/docs/reference/api/pandas.DataFrame.tail.html#pandas.DataFrame.tail)"
      ],
      "text/plain": [
       "<IPython.core.display.Markdown object>"
      ]
     },
     "metadata": {},
     "output_type": "display_data"
    },
    {
     "name": "stdout",
     "output_type": "stream",
     "text": [
      "     sepal_length  sepal_width  petal_length  petal_width    species\n",
      "145           6.7          3.0           5.2          2.3  virginica\n",
      "146           6.3          2.5           5.0          1.9  virginica\n",
      "147           6.5          3.0           5.2          2.0  virginica\n",
      "148           6.2          3.4           5.4          2.3  virginica\n",
      "149           5.9          3.0           5.1          1.8  virginica\n"
     ]
    }
   ],
   "source": [
    "# The pandas tail(n=) function returns the last n rows specified. By default, it displays the last 5 rows if not otherwise specified.\n",
    "display(Markdown(\"[See Official Documentation](https://pandas.pydata.org/docs/reference/api/pandas.DataFrame.tail.html#pandas.DataFrame.tail)\"))\n",
    "\n",
    "print(iris.tail(n=5))"
   ]
  },
  {
   "cell_type": "markdown",
   "metadata": {},
   "source": [
    "Explanation:\n",
    "The last 5 rows contains data on 5 individual plants of the viriginica species.\n",
    "The data pertaining to the virginica species includes: sepal length, sepal width, petal length and petal width."
   ]
  },
  {
   "cell_type": "markdown",
   "metadata": {},
   "source": [
    "### Feature names:"
   ]
  },
  {
   "cell_type": "code",
   "execution_count": 430,
   "metadata": {},
   "outputs": [
    {
     "data": {
      "text/plain": [
       "['sepal length (cm)',\n",
       " 'sepal width (cm)',\n",
       " 'petal length (cm)',\n",
       " 'petal width (cm)']"
      ]
     },
     "execution_count": 430,
     "metadata": {},
     "output_type": "execute_result"
    }
   ],
   "source": [
    "data['feature_names']\n",
    "\n",
    "# Explanation:\n",
    "# There are four features in the dataset, containing individual information on each iris plant.\n",
    "# The feature names include: sepal length, sepal width, petal length, petal width measured in cms."
   ]
  },
  {
   "cell_type": "markdown",
   "metadata": {},
   "source": [
    "### Target classes:"
   ]
  },
  {
   "cell_type": "code",
   "execution_count": 431,
   "metadata": {},
   "outputs": [
    {
     "data": {
      "text/plain": [
       "array(['setosa', 'versicolor', 'virginica'], dtype='<U10')"
      ]
     },
     "execution_count": 431,
     "metadata": {},
     "output_type": "execute_result"
    }
   ],
   "source": [
    "data['target_names']\n",
    "\n",
    "# Explanation:\n",
    "# The target classes of the dataset include 3 types of the iris plant: setosa, versicolor, virginica."
   ]
  },
  {
   "cell_type": "markdown",
   "metadata": {},
   "source": [
    "<h2 align=\"center\">Task 3: Summarize the Data</h2>\n",
    "\n",
    "Instructions: For each feature in the dataset, calculate and display:\n",
    "- mean\n",
    "- minimum\n",
    "- maximum\n",
    "- standard deviation\n",
    "- median"
   ]
  },
  {
   "cell_type": "markdown",
   "metadata": {},
   "source": [
    "There are two methods that I will use to carry out this task. 1. Describe() function & 2. Calculating descriptives using NumPy."
   ]
  },
  {
   "cell_type": "markdown",
   "metadata": {},
   "source": [
    "### Describe() Function"
   ]
  },
  {
   "cell_type": "code",
   "execution_count": 432,
   "metadata": {},
   "outputs": [
    {
     "data": {
      "text/markdown": [
       "[See Official Documentation](https://pandas.pydata.org/pandas-docs/stable/reference/api/pandas.DataFrame.describe.html)"
      ],
      "text/plain": [
       "<IPython.core.display.Markdown object>"
      ]
     },
     "metadata": {},
     "output_type": "display_data"
    },
    {
     "data": {
      "text/html": [
       "<div>\n",
       "<style scoped>\n",
       "    .dataframe tbody tr th:only-of-type {\n",
       "        vertical-align: middle;\n",
       "    }\n",
       "\n",
       "    .dataframe tbody tr th {\n",
       "        vertical-align: top;\n",
       "    }\n",
       "\n",
       "    .dataframe thead th {\n",
       "        text-align: right;\n",
       "    }\n",
       "</style>\n",
       "<table border=\"1\" class=\"dataframe\">\n",
       "  <thead>\n",
       "    <tr style=\"text-align: right;\">\n",
       "      <th></th>\n",
       "      <th>sepal_length</th>\n",
       "      <th>sepal_width</th>\n",
       "      <th>petal_length</th>\n",
       "      <th>petal_width</th>\n",
       "    </tr>\n",
       "  </thead>\n",
       "  <tbody>\n",
       "    <tr>\n",
       "      <th>count</th>\n",
       "      <td>150.000000</td>\n",
       "      <td>150.000000</td>\n",
       "      <td>150.000000</td>\n",
       "      <td>150.000000</td>\n",
       "    </tr>\n",
       "    <tr>\n",
       "      <th>mean</th>\n",
       "      <td>5.843333</td>\n",
       "      <td>3.054000</td>\n",
       "      <td>3.758667</td>\n",
       "      <td>1.198667</td>\n",
       "    </tr>\n",
       "    <tr>\n",
       "      <th>std</th>\n",
       "      <td>0.828066</td>\n",
       "      <td>0.433594</td>\n",
       "      <td>1.764420</td>\n",
       "      <td>0.763161</td>\n",
       "    </tr>\n",
       "    <tr>\n",
       "      <th>min</th>\n",
       "      <td>4.300000</td>\n",
       "      <td>2.000000</td>\n",
       "      <td>1.000000</td>\n",
       "      <td>0.100000</td>\n",
       "    </tr>\n",
       "    <tr>\n",
       "      <th>25%</th>\n",
       "      <td>5.100000</td>\n",
       "      <td>2.800000</td>\n",
       "      <td>1.600000</td>\n",
       "      <td>0.300000</td>\n",
       "    </tr>\n",
       "    <tr>\n",
       "      <th>50%</th>\n",
       "      <td>5.800000</td>\n",
       "      <td>3.000000</td>\n",
       "      <td>4.350000</td>\n",
       "      <td>1.300000</td>\n",
       "    </tr>\n",
       "    <tr>\n",
       "      <th>75%</th>\n",
       "      <td>6.400000</td>\n",
       "      <td>3.300000</td>\n",
       "      <td>5.100000</td>\n",
       "      <td>1.800000</td>\n",
       "    </tr>\n",
       "    <tr>\n",
       "      <th>max</th>\n",
       "      <td>7.900000</td>\n",
       "      <td>4.400000</td>\n",
       "      <td>6.900000</td>\n",
       "      <td>2.500000</td>\n",
       "    </tr>\n",
       "  </tbody>\n",
       "</table>\n",
       "</div>"
      ],
      "text/plain": [
       "       sepal_length  sepal_width  petal_length  petal_width\n",
       "count    150.000000   150.000000    150.000000   150.000000\n",
       "mean       5.843333     3.054000      3.758667     1.198667\n",
       "std        0.828066     0.433594      1.764420     0.763161\n",
       "min        4.300000     2.000000      1.000000     0.100000\n",
       "25%        5.100000     2.800000      1.600000     0.300000\n",
       "50%        5.800000     3.000000      4.350000     1.300000\n",
       "75%        6.400000     3.300000      5.100000     1.800000\n",
       "max        7.900000     4.400000      6.900000     2.500000"
      ]
     },
     "execution_count": 432,
     "metadata": {},
     "output_type": "execute_result"
    }
   ],
   "source": [
    "# The describe() function generates descriptive statistics of the imported dataset\n",
    "display(Markdown(\"[See Official Documentation](https://pandas.pydata.org/pandas-docs/stable/reference/api/pandas.DataFrame.describe.html)\"))\n",
    "\n",
    "iris.describe()"
   ]
  },
  {
   "cell_type": "markdown",
   "metadata": {},
   "source": [
    "Output displays descriptive statistics for each feature in the Iris dataset including: mean, minimum, maximum, standard deviation & median."
   ]
  },
  {
   "cell_type": "markdown",
   "metadata": {},
   "source": [
    "### NumPy"
   ]
  },
  {
   "cell_type": "code",
   "execution_count": 433,
   "metadata": {},
   "outputs": [],
   "source": [
    "# Import & run dataset to access index/columns\n",
    "\n",
    "data = np.array([[5.1, 3.5, 1.4, 0.2],\n",
    "                [4.9, 3. , 1.4, 0.2],\n",
    "                [4.7, 3.2, 1.3, 0.2],\n",
    "                [4.6, 3.1, 1.5, 0.2],\n",
    "                [5. , 3.6, 1.4, 0.2],\n",
    "                [5.4, 3.9, 1.7, 0.4],\n",
    "                [4.6, 3.4, 1.4, 0.3],\n",
    "                [5. , 3.4, 1.5, 0.2],\n",
    "                [4.4, 2.9, 1.4, 0.2],\n",
    "                [4.9, 3.1, 1.5, 0.1],\n",
    "                [5.4, 3.7, 1.5, 0.2],\n",
    "                [4.8, 3.4, 1.6, 0.2],\n",
    "                [4.8, 3. , 1.4, 0.1],\n",
    "                [4.3, 3. , 1.1, 0.1],\n",
    "                [5.8, 4. , 1.2, 0.2],\n",
    "                [5.7, 4.4, 1.5, 0.4],\n",
    "                [5.4, 3.9, 1.3, 0.4],\n",
    "                [5.1, 3.5, 1.4, 0.3],\n",
    "                [5.7, 3.8, 1.7, 0.3],\n",
    "                [5.1, 3.8, 1.5, 0.3],\n",
    "                [5.4, 3.4, 1.7, 0.2],\n",
    "                [5.1, 3.7, 1.5, 0.4],\n",
    "                [4.6, 3.6, 1. , 0.2],\n",
    "                [5.1, 3.3, 1.7, 0.5],\n",
    "                [4.8, 3.4, 1.9, 0.2],\n",
    "                [5. , 3. , 1.6, 0.2],\n",
    "                [5. , 3.4, 1.6, 0.4],\n",
    "                [5.2, 3.5, 1.5, 0.2],\n",
    "                [5.2, 3.4, 1.4, 0.2],\n",
    "                [4.7, 3.2, 1.6, 0.2],\n",
    "                [4.8, 3.1, 1.6, 0.2],\n",
    "                [5.4, 3.4, 1.5, 0.4],\n",
    "                [5.2, 4.1, 1.5, 0.1],\n",
    "                [5.5, 4.2, 1.4, 0.2],\n",
    "                [4.9, 3.1, 1.5, 0.2],\n",
    "                [5. , 3.2, 1.2, 0.2],\n",
    "                [5.5, 3.5, 1.3, 0.2],\n",
    "                [4.9, 3.6, 1.4, 0.1],\n",
    "                [4.4, 3. , 1.3, 0.2],\n",
    "                [5.1, 3.4, 1.5, 0.2],\n",
    "                [5. , 3.5, 1.3, 0.3],\n",
    "                [4.5, 2.3, 1.3, 0.3],\n",
    "                [4.4, 3.2, 1.3, 0.2],\n",
    "                [5. , 3.5, 1.6, 0.6],\n",
    "                [5.1, 3.8, 1.9, 0.4],\n",
    "                [4.8, 3. , 1.4, 0.3],\n",
    "                [5.1, 3.8, 1.6, 0.2],\n",
    "                [4.6, 3.2, 1.4, 0.2],\n",
    "                [5.3, 3.7, 1.5, 0.2],\n",
    "                [5. , 3.3, 1.4, 0.2],\n",
    "                [7. , 3.2, 4.7, 1.4],\n",
    "                [6.4, 3.2, 4.5, 1.5],\n",
    "                [6.9, 3.1, 4.9, 1.5],\n",
    "                [5.5, 2.3, 4. , 1.3],\n",
    "                [6.5, 2.8, 4.6, 1.5],\n",
    "                [5.7, 2.8, 4.5, 1.3],\n",
    "                [6.3, 3.3, 4.7, 1.6],\n",
    "                [4.9, 2.4, 3.3, 1. ],\n",
    "                [6.6, 2.9, 4.6, 1.3],\n",
    "                [5.2, 2.7, 3.9, 1.4],\n",
    "                [5. , 2. , 3.5, 1. ],\n",
    "                [5.9, 3. , 4.2, 1.5],\n",
    "                [6. , 2.2, 4. , 1. ],\n",
    "                [6.1, 2.9, 4.7, 1.4],\n",
    "                [5.6, 2.9, 3.6, 1.3],\n",
    "                [6.7, 3.1, 4.4, 1.4],\n",
    "                [5.6, 3. , 4.5, 1.5],\n",
    "                [5.8, 2.7, 4.1, 1. ],\n",
    "                [6.2, 2.2, 4.5, 1.5],\n",
    "                [5.6, 2.5, 3.9, 1.1],\n",
    "                [5.9, 3.2, 4.8, 1.8],\n",
    "                [6.1, 2.8, 4. , 1.3],\n",
    "                [6.3, 2.5, 4.9, 1.5],\n",
    "                [6.1, 2.8, 4.7, 1.2],\n",
    "                [6.4, 2.9, 4.3, 1.3],\n",
    "                [6.6, 3. , 4.4, 1.4],\n",
    "                [6.8, 2.8, 4.8, 1.4],\n",
    "                [6.7, 3. , 5. , 1.7],\n",
    "                [6. , 2.9, 4.5, 1.5],\n",
    "                [5.7, 2.6, 3.5, 1. ],\n",
    "                [5.5, 2.4, 3.8, 1.1],\n",
    "                [5.5, 2.4, 3.7, 1. ],\n",
    "                [5.8, 2.7, 3.9, 1.2],\n",
    "                [6. , 2.7, 5.1, 1.6],\n",
    "                [5.4, 3. , 4.5, 1.5],\n",
    "                [6. , 3.4, 4.5, 1.6],\n",
    "                [6.7, 3.1, 4.7, 1.5],\n",
    "                [6.3, 2.3, 4.4, 1.3],\n",
    "                [5.6, 3. , 4.1, 1.3],\n",
    "                [5.5, 2.5, 4. , 1.3],\n",
    "                [5.5, 2.6, 4.4, 1.2],\n",
    "                [6.1, 3. , 4.6, 1.4],\n",
    "                [5.8, 2.6, 4. , 1.2],\n",
    "                [5. , 2.3, 3.3, 1. ],\n",
    "                [5.6, 2.7, 4.2, 1.3],\n",
    "                [5.7, 3. , 4.2, 1.2],\n",
    "                [5.7, 2.9, 4.2, 1.3],\n",
    "                [6.2, 2.9, 4.3, 1.3],\n",
    "                [5.1, 2.5, 3. , 1.1],\n",
    "                [5.7, 2.8, 4.1, 1.3],\n",
    "                [6.3, 3.3, 6. , 2.5],\n",
    "                [5.8, 2.7, 5.1, 1.9],\n",
    "                [7.1, 3. , 5.9, 2.1],\n",
    "                [6.3, 2.9, 5.6, 1.8],\n",
    "                [6.5, 3. , 5.8, 2.2],\n",
    "                [7.6, 3. , 6.6, 2.1],\n",
    "                [4.9, 2.5, 4.5, 1.7],\n",
    "                [7.3, 2.9, 6.3, 1.8],\n",
    "                [6.7, 2.5, 5.8, 1.8],\n",
    "                [7.2, 3.6, 6.1, 2.5],\n",
    "                [6.5, 3.2, 5.1, 2. ],\n",
    "                [6.4, 2.7, 5.3, 1.9],\n",
    "                [6.8, 3. , 5.5, 2.1],\n",
    "                [5.7, 2.5, 5. , 2. ],\n",
    "                [5.8, 2.8, 5.1, 2.4],\n",
    "                [6.4, 3.2, 5.3, 2.3],\n",
    "                [6.5, 3. , 5.5, 1.8],\n",
    "                [7.7, 3.8, 6.7, 2.2],\n",
    "                [7.7, 2.6, 6.9, 2.3],\n",
    "                [6. , 2.2, 5. , 1.5],\n",
    "                [6.9, 3.2, 5.7, 2.3],\n",
    "                [5.6, 2.8, 4.9, 2. ],\n",
    "                [7.7, 2.8, 6.7, 2. ],\n",
    "                [6.3, 2.7, 4.9, 1.8],\n",
    "                [6.7, 3.3, 5.7, 2.1],\n",
    "                [7.2, 3.2, 6. , 1.8],\n",
    "                [6.2, 2.8, 4.8, 1.8],\n",
    "                [6.1, 3. , 4.9, 1.8],\n",
    "                [6.4, 2.8, 5.6, 2.1],\n",
    "                [7.2, 3. , 5.8, 1.6],\n",
    "                [7.4, 2.8, 6.1, 1.9],\n",
    "                [7.9, 3.8, 6.4, 2. ],\n",
    "                [6.4, 2.8, 5.6, 2.2],\n",
    "                [6.3, 2.8, 5.1, 1.5],\n",
    "                [6.1, 2.6, 5.6, 1.4],\n",
    "                [7.7, 3. , 6.1, 2.3],\n",
    "                [6.3, 3.4, 5.6, 2.4],\n",
    "                [6.4, 3.1, 5.5, 1.8],\n",
    "                [6. , 3. , 4.8, 1.8],\n",
    "                [6.9, 3.1, 5.4, 2.1],\n",
    "                [6.7, 3.1, 5.6, 2.4],\n",
    "                [6.9, 3.1, 5.1, 2.3],\n",
    "                [5.8, 2.7, 5.1, 1.9],\n",
    "                [6.8, 3.2, 5.9, 2.3],\n",
    "                [6.7, 3.3, 5.7, 2.5],\n",
    "                [6.7, 3. , 5.2, 2.3],\n",
    "                [6.3, 2.5, 5. , 1.9],\n",
    "                [6.5, 3. , 5.2, 2. ],\n",
    "                [6.2, 3.4, 5.4, 2.3],\n",
    "                [5.9, 3. , 5.1, 1.8]])"
   ]
  },
  {
   "cell_type": "markdown",
   "metadata": {},
   "source": [
    "### sepal_length - Mean"
   ]
  },
  {
   "cell_type": "code",
   "execution_count": 434,
   "metadata": {},
   "outputs": [
    {
     "name": "stdout",
     "output_type": "stream",
     "text": [
      "Mean of sepal_lenght: 5.843333333333334\n"
     ]
    }
   ],
   "source": [
    "# Access the index of the feature\n",
    "feature_index = 0 \n",
    "\n",
    "# np.mean(), calculates the mean\n",
    "mean_value = np.mean(data[:, feature_index])\n",
    "\n",
    "#print(\"Mean of sepal length:\", mean_value)\n",
    "\n",
    "# Cleaner version\n",
    "print(f\"Mean of sepal_lenght: {mean_value}\")\n",
    "\n",
    "#Source: https://chatgpt.com/share/67c5edc5-29f4-8011-b7b2-125d531b9992"
   ]
  },
  {
   "cell_type": "markdown",
   "metadata": {},
   "source": [
    "### sepal_length - Min & Max"
   ]
  },
  {
   "cell_type": "code",
   "execution_count": 435,
   "metadata": {},
   "outputs": [
    {
     "name": "stdout",
     "output_type": "stream",
     "text": [
      "Minimum: 4.3, Maximum: 7.9\n"
     ]
    }
   ],
   "source": [
    "feature_column = 0\n",
    "\n",
    "min_value = np.min(data[:, feature_column])  # Minimum value\n",
    "max_value = np.max(data[:, feature_column])  # Maximum value\n",
    "\n",
    "print(f\"Minimum: {min_value}, Maximum: {max_value}\")\n",
    "\n",
    "#Source: https://chatgpt.com/share/67c5f51c-d6ac-8011-b412-add5b5c39264"
   ]
  },
  {
   "cell_type": "markdown",
   "metadata": {},
   "source": [
    "### sepal_length - Standard Deviation"
   ]
  },
  {
   "cell_type": "code",
   "execution_count": 436,
   "metadata": {},
   "outputs": [
    {
     "name": "stdout",
     "output_type": "stream",
     "text": [
      "Population standard deviation for sepal_length is 0.8253012917851409\n",
      "Sample standard deviation for sepal_length is 0.828066127977863\n"
     ]
    }
   ],
   "source": [
    "# Specify feature index\n",
    "feature_index = 0\n",
    "\n",
    "# To calculate sample std use NumPy-style slicing to extract column as 1D array\n",
    "feature_column = data[:, feature_index]\n",
    "\n",
    "# Computes standard deviation\n",
    "std_dev = np.std(data[:, feature_index], ddof=0)  # ddof=0 for population std dev\n",
    "sample_std = np.std(feature_column, ddof=1) # ddof=1 for sample std dev; Besseel's correction (-1) used to reduce bias\n",
    "\n",
    "print(f\"Population standard deviation for sepal_length is {std_dev}\")\n",
    "print(f\"Sample standard deviation for sepal_length is {sample_std}\")\n",
    "\n",
    "# Sources: https://chatgpt.com/share/67c75fb9-0f10-8011-8894-aaeb1047ac13\n",
    "# https://chatgpt.com/share/67c76386-05c8-8011-8ea8-ed8c82322fcd\n",
    "# https://chatgpt.com/share/67c763d8-4830-8011-9b4c-0e1bea83ad9d\n",
    "# https://chatgpt.com/share/67c7650c-48bc-8011-9215-6175c53a2254"
   ]
  },
  {
   "cell_type": "markdown",
   "metadata": {},
   "source": [
    "### sepal_length - Median"
   ]
  },
  {
   "cell_type": "code",
   "execution_count": 437,
   "metadata": {},
   "outputs": [
    {
     "name": "stdout",
     "output_type": "stream",
     "text": [
      "Median of sepal_lenght is 5.8\n"
     ]
    }
   ],
   "source": [
    "# Index of feature\n",
    "feature_index = 0\n",
    "\n",
    "# extract column \n",
    "feature_column = data[:, feature_index] \n",
    "\n",
    "# Calculates median\n",
    "median_value = np.median(feature_column)\n",
    "\n",
    "print(f\"Median of sepal_lenght is {median_value}\")\n",
    "\n",
    "# Source: https://numpy.org/doc/stable/reference/generated/numpy.median.html"
   ]
  },
  {
   "cell_type": "markdown",
   "metadata": {},
   "source": [
    "### sepal_width - Mean"
   ]
  },
  {
   "cell_type": "code",
   "execution_count": 438,
   "metadata": {},
   "outputs": [
    {
     "name": "stdout",
     "output_type": "stream",
     "text": [
      "Mean of sepal width: 3.0573333333333337\n"
     ]
    }
   ],
   "source": [
    "# Index of feature\n",
    "feature_index = 1\n",
    "\n",
    "# Calculates the mean\n",
    "mean_value = np.mean(data[:, feature_index])\n",
    "\n",
    "print(\"Mean of sepal width:\", mean_value)\n",
    "\n",
    "#Source: https://chatgpt.com/share/67c5edc5-29f4-8011-b7b2-125d531b9992"
   ]
  },
  {
   "cell_type": "markdown",
   "metadata": {},
   "source": [
    "### sepal_width - Min & Max"
   ]
  },
  {
   "cell_type": "code",
   "execution_count": 439,
   "metadata": {},
   "outputs": [
    {
     "name": "stdout",
     "output_type": "stream",
     "text": [
      "Minimum: 2.0, Maximum: 4.4\n"
     ]
    }
   ],
   "source": [
    "feature_column = 1\n",
    "\n",
    "min_value = np.min(data[:, feature_column])  # Minimum value\n",
    "max_value = np.max(data[:, feature_column])  # Maximum value\n",
    "\n",
    "print(f\"Minimum: {min_value}, Maximum: {max_value}\")\n",
    "\n",
    "#Source: https://chatgpt.com/share/67c5f51c-d6ac-8011-b412-add5b5c39264"
   ]
  },
  {
   "cell_type": "markdown",
   "metadata": {},
   "source": [
    "### sepal_width - Standard Deviation"
   ]
  },
  {
   "cell_type": "code",
   "execution_count": 440,
   "metadata": {},
   "outputs": [
    {
     "name": "stdout",
     "output_type": "stream",
     "text": [
      "Population standard deviation for sepal_width is 0.4344109677354946\n",
      "Sample standard deviation for sepal_width is 0.4358662849366982\n"
     ]
    }
   ],
   "source": [
    "# Specify feature index\n",
    "feature_index = 1\n",
    "\n",
    "# To calculate sample std use NumPy-style slicing to extract column as 1D array\n",
    "feature_column = data[:, feature_index]\n",
    "\n",
    "# Computes standard deviation\n",
    "std_dev = np.std(data[:, feature_index], ddof=0)  # ddof=0 for population std dev\n",
    "sample_std = np.std(feature_column, ddof=1) # ddof=1 for sample std dev; Bessel's correction (-1) used to reduce bias\n",
    "\n",
    "print(f\"Population standard deviation for sepal_width is {std_dev}\")\n",
    "print(f\"Sample standard deviation for sepal_width is {sample_std}\")\n",
    "\n",
    "# Sources: https://chatgpt.com/share/67c75fb9-0f10-8011-8894-aaeb1047ac13\n",
    "# https://chatgpt.com/share/67c76386-05c8-8011-8ea8-ed8c82322fcd\n",
    "# https://chatgpt.com/share/67c763d8-4830-8011-9b4c-0e1bea83ad9d\n",
    "# https://chatgpt.com/share/67c7650c-48bc-8011-9215-6175c53a2254"
   ]
  },
  {
   "cell_type": "markdown",
   "metadata": {},
   "source": [
    "### sepal_width - Median"
   ]
  },
  {
   "cell_type": "code",
   "execution_count": 441,
   "metadata": {},
   "outputs": [
    {
     "name": "stdout",
     "output_type": "stream",
     "text": [
      "Median of sepal_width is 3.0\n"
     ]
    }
   ],
   "source": [
    "# Index of feature\n",
    "feature_index = 1\n",
    "# extract column \n",
    "feature_column = data[:, feature_index] \n",
    "\n",
    "# Calculates median\n",
    "median_value = np.median(feature_column)\n",
    "\n",
    "print(f\"Median of sepal_width is {median_value}\")\n",
    "\n",
    "# Source: https://numpy.org/doc/stable/reference/generated/numpy.median.html"
   ]
  },
  {
   "cell_type": "markdown",
   "metadata": {},
   "source": [
    "### petal_length - Mean"
   ]
  },
  {
   "cell_type": "code",
   "execution_count": 442,
   "metadata": {},
   "outputs": [
    {
     "name": "stdout",
     "output_type": "stream",
     "text": [
      "Mean of petal length: 3.7580000000000005\n"
     ]
    }
   ],
   "source": [
    "# Index of feature\n",
    "feature_index = 2\n",
    "\n",
    "# Find the mean of feature\n",
    "mean_value = np.mean(data[:, feature_index])\n",
    "\n",
    "print(\"Mean of petal length:\", mean_value)\n",
    "\n",
    "#Source: https://chatgpt.com/share/67c5edc5-29f4-8011-b7b2-125d531b9992\n"
   ]
  },
  {
   "cell_type": "markdown",
   "metadata": {},
   "source": [
    "### petal_length - Min & Max"
   ]
  },
  {
   "cell_type": "code",
   "execution_count": 443,
   "metadata": {},
   "outputs": [
    {
     "name": "stdout",
     "output_type": "stream",
     "text": [
      "Minimum: 1.0, Maximum: 6.9\n"
     ]
    }
   ],
   "source": [
    "feature_column = 2\n",
    "\n",
    "min_value = np.min(data[:, feature_column])  # Minimum value\n",
    "max_value = np.max(data[:, feature_column])  # Maximum value\n",
    "\n",
    "print(f\"Minimum: {min_value}, Maximum: {max_value}\")\n",
    "\n",
    "#Source: https://chatgpt.com/share/67c5f51c-d6ac-8011-b412-add5b5c39264"
   ]
  },
  {
   "cell_type": "markdown",
   "metadata": {},
   "source": [
    "### petal_length - Standard Deviation"
   ]
  },
  {
   "cell_type": "code",
   "execution_count": 444,
   "metadata": {},
   "outputs": [
    {
     "name": "stdout",
     "output_type": "stream",
     "text": [
      "Population standard deviation for petal_length is 1.759404065775303\n",
      "Sample standard deviation for petal_length is 1.7652982332594662\n"
     ]
    }
   ],
   "source": [
    "# Specify feature index\n",
    "feature_index = 2\n",
    "\n",
    "# To calculate sample std use NumPy-style slicing to extract column as 1D array\n",
    "feature_column = data[:, feature_index]\n",
    "\n",
    "# Computes standard deviation\n",
    "std_dev = np.std(data[:, feature_index], ddof=0)  # ddof=0 for population std dev\n",
    "sample_std = np.std(feature_column, ddof=1) # ddof=1 for sample std dev; Besseel's correction (-1) used to reduce bias\n",
    "\n",
    "print(f\"Population standard deviation for petal_length is {std_dev}\")\n",
    "print(f\"Sample standard deviation for petal_length is {sample_std}\")\n",
    "\n",
    "# Sources: https://chatgpt.com/share/67c75fb9-0f10-8011-8894-aaeb1047ac13\n",
    "# https://chatgpt.com/share/67c76386-05c8-8011-8ea8-ed8c82322fcd\n",
    "# https://chatgpt.com/share/67c763d8-4830-8011-9b4c-0e1bea83ad9d\n",
    "# https://chatgpt.com/share/67c7650c-48bc-8011-9215-6175c53a2254"
   ]
  },
  {
   "cell_type": "markdown",
   "metadata": {},
   "source": [
    "### petal_length - Median"
   ]
  },
  {
   "cell_type": "code",
   "execution_count": 445,
   "metadata": {},
   "outputs": [
    {
     "name": "stdout",
     "output_type": "stream",
     "text": [
      "Median of petal_lenght is 4.35\n"
     ]
    }
   ],
   "source": [
    "# Index of feature\n",
    "feature_index = 2\n",
    "# extract column \n",
    "feature_column = data[:, feature_index] \n",
    "\n",
    "# Calculates median\n",
    "median_value = np.median(feature_column)\n",
    "\n",
    "print(f\"Median of petal_lenght is {median_value}\")\n",
    "\n",
    "# Source: https://numpy.org/doc/stable/reference/generated/numpy.median.html"
   ]
  },
  {
   "cell_type": "markdown",
   "metadata": {},
   "source": [
    "### petal_width - Mean"
   ]
  },
  {
   "cell_type": "code",
   "execution_count": 446,
   "metadata": {},
   "outputs": [
    {
     "name": "stdout",
     "output_type": "stream",
     "text": [
      "Mean of petal width: 1.1993333333333336\n"
     ]
    }
   ],
   "source": [
    "# Index of feature\n",
    "feature_index = 3\n",
    "\n",
    "# Find the mean of feature\n",
    "mean_value = np.mean(data[:, feature_index])\n",
    "\n",
    "print(\"Mean of petal width:\", mean_value)\n",
    "\n",
    "#Source: https://chatgpt.com/share/67c5edc5-29f4-8011-b7b2-125d531b9992"
   ]
  },
  {
   "cell_type": "markdown",
   "metadata": {},
   "source": [
    "### petal_width - Min & Max"
   ]
  },
  {
   "cell_type": "code",
   "execution_count": 447,
   "metadata": {},
   "outputs": [
    {
     "name": "stdout",
     "output_type": "stream",
     "text": [
      "Minimum: 0.1, Maximum: 2.5\n"
     ]
    }
   ],
   "source": [
    "feature_column = 3\n",
    "\n",
    "min_value = np.min(data[:, feature_column])  # Minimum value\n",
    "max_value = np.max(data[:, feature_column])  # Maximum value\n",
    "\n",
    "print(f\"Minimum: {min_value}, Maximum: {max_value}\")\n",
    "\n",
    "#Source: https://chatgpt.com/share/67c5f51c-d6ac-8011-b412-add5b5c39264"
   ]
  },
  {
   "cell_type": "markdown",
   "metadata": {},
   "source": [
    "### petal_width - Standard Deviation"
   ]
  },
  {
   "cell_type": "code",
   "execution_count": 448,
   "metadata": {},
   "outputs": [
    {
     "name": "stdout",
     "output_type": "stream",
     "text": [
      "Population standard deviation for petal_width is 0.7596926279021594\n",
      "Sample standard deviation for petal_width is 0.7622376689603465\n"
     ]
    }
   ],
   "source": [
    "# Specify feature index\n",
    "feature_index = 3\n",
    "\n",
    "# To calculate sample std use NumPy-style slicing to extract column as 1D array\n",
    "feature_column = data[:, feature_index]\n",
    "\n",
    "# Computes standard deviation\n",
    "std_dev = np.std(data[:, feature_index], ddof=0)  # ddof=0 for population std dev\n",
    "sample_std = np.std(feature_column, ddof=1) # ddof=1 for sample std dev; Besseel's correction (-1) used to reduce bias\n",
    "\n",
    "print(f\"Population standard deviation for petal_width is {std_dev}\")\n",
    "print(f\"Sample standard deviation for petal_width is {sample_std}\")\n",
    "\n",
    "# Sources: https://chatgpt.com/share/67c75fb9-0f10-8011-8894-aaeb1047ac13\n",
    "# https://chatgpt.com/share/67c76386-05c8-8011-8ea8-ed8c82322fcd\n",
    "# https://chatgpt.com/share/67c763d8-4830-8011-9b4c-0e1bea83ad9d\n",
    "# https://chatgpt.com/share/67c7650c-48bc-8011-9215-6175c53a2254"
   ]
  },
  {
   "cell_type": "markdown",
   "metadata": {},
   "source": [
    "### petal_width - Median"
   ]
  },
  {
   "cell_type": "code",
   "execution_count": 449,
   "metadata": {},
   "outputs": [
    {
     "name": "stdout",
     "output_type": "stream",
     "text": [
      "Median of petal_width is 1.3\n"
     ]
    }
   ],
   "source": [
    "# Index of feature\n",
    "feature_index = 3\n",
    "# extract column \n",
    "feature_column = data[:, feature_index] \n",
    "\n",
    "# Calculates median\n",
    "median_value = np.median(feature_column)\n",
    "\n",
    "print(f\"Median of petal_width is {median_value}\")\n",
    "\n",
    "# Source: https://numpy.org/doc/stable/reference/generated/numpy.median.html"
   ]
  },
  {
   "cell_type": "markdown",
   "metadata": {},
   "source": [
    "<h2 align=\"center\">Task 4: Visualize Features</h2>"
   ]
  },
  {
   "cell_type": "markdown",
   "metadata": {},
   "source": [
    "Instructions: Plot histograms for each feature using matplotlib.\n",
    "              Add appropriate titles and axis labels.\n",
    "\n",
    "Source for Histogram creation: https://matplotlib.org/stable/plot_types/stats/hist_plot.html#sphx-glr-plot-types-stats-hist-plot-py"
   ]
  },
  {
   "cell_type": "markdown",
   "metadata": {},
   "source": [
    "### sepal_length Histogram"
   ]
  },
  {
   "cell_type": "code",
   "execution_count": 450,
   "metadata": {},
   "outputs": [
    {
     "data": {
      "text/plain": [
       "Text(0.5, 1.0, 'Histogram of sepal_length')"
      ]
     },
     "execution_count": 450,
     "metadata": {},
     "output_type": "execute_result"
    },
    {
     "data": {
      "image/png": "[encoded data removed]",
      "text/plain": [
       "<Figure size 800x500 with 1 Axes>"
      ]
     },
     "metadata": {},
     "output_type": "display_data"
    }
   ],
   "source": [
    "# 1. Import matplotlib & PANDAS\n",
    "# 2. Import & load dataset\n",
    "\n",
    "# Select the feature/column to plot\n",
    "feature = iris[\"sepal_length\"]\n",
    "\n",
    "# Create the histogram\n",
    "plt.figure(figsize=(8, 5)) # Sets hist size\n",
    "plt.hist(feature, bins=10, color='pink', edgecolor='blue', alpha=0.7)\n",
    "\n",
    "# Add title & labels to axis\n",
    "plt.xlabel(\"sepal_length Feature Value\")\n",
    "plt.ylabel(\"Frequency\")\n",
    "plt.title(\"Histogram of sepal_length\")\n",
    "\n",
    "# Show the plot (this does not need to be carried out as Jupyter already knows to display)\n",
    "# plt.show()\n",
    "\n",
    "# Source: https://chatgpt.com/share/67c8d1e3-e58c-8011-ba8d-42654ba25576"
   ]
  },
  {
   "cell_type": "markdown",
   "metadata": {},
   "source": [
    "### sepal_width Histogram"
   ]
  },
  {
   "cell_type": "code",
   "execution_count": 451,
   "metadata": {},
   "outputs": [
    {
     "data": {
      "text/plain": [
       "Text(0.5, 1.0, 'Histogram of sepal_width')"
      ]
     },
     "execution_count": 451,
     "metadata": {},
     "output_type": "execute_result"
    },
    {
     "data": {
      "image/png": "[encoded data removed]",
      "text/plain": [
       "<Figure size 800x500 with 1 Axes>"
      ]
     },
     "metadata": {},
     "output_type": "display_data"
    }
   ],
   "source": [
    "# 1. Import matplotlib & PANDAS\n",
    "# 2. Import & load dataset\n",
    "\n",
    "# Select the feature/column to plot\n",
    "feature = iris[\"sepal_width\"]\n",
    "\n",
    "# Create the histogram\n",
    "plt.figure(figsize=(8, 5)) # Sets hist size\n",
    "plt.hist(feature, bins=10, color='red', edgecolor='yellow', alpha=0.7)\n",
    "\n",
    "# Add title & labels to axis\n",
    "plt.xlabel(\"sepal_width Feature Value\")\n",
    "plt.ylabel(\"Frequency\")\n",
    "plt.title(\"Histogram of sepal_width\")\n",
    "\n",
    "# Source: https://chatgpt.com/share/67c8d1e3-e58c-8011-ba8d-42654ba25576"
   ]
  },
  {
   "cell_type": "markdown",
   "metadata": {},
   "source": [
    "### petal_length Histogram"
   ]
  },
  {
   "cell_type": "code",
   "execution_count": 452,
   "metadata": {},
   "outputs": [
    {
     "data": {
      "text/plain": [
       "Text(0.5, 1.0, 'Histogram of petal_length')"
      ]
     },
     "execution_count": 452,
     "metadata": {},
     "output_type": "execute_result"
    },
    {
     "data": {
      "image/png": "[encoded data removed]",
      "text/plain": [
       "<Figure size 800x500 with 1 Axes>"
      ]
     },
     "metadata": {},
     "output_type": "display_data"
    }
   ],
   "source": [
    "# 1. Import matplotlib & PANDAS\n",
    "# 2. Import & load dataset\n",
    "\n",
    "# Select the feature/column to plot\n",
    "feature = iris[\"petal_length\"]\n",
    "\n",
    "# Create the histogram\n",
    "plt.figure(figsize=(8, 5)) # Sets hist size\n",
    "plt.hist(feature, bins=10, color='black', edgecolor='pink', alpha=0.7)\n",
    "\n",
    "# Add title & labels to axis\n",
    "plt.xlabel(\"petal_length Feature Value\")\n",
    "plt.ylabel(\"Frequency\")\n",
    "plt.title(\"Histogram of petal_length\")\n",
    "\n",
    "# Source: https://chatgpt.com/share/67c8d1e3-e58c-8011-ba8d-42654ba25576"
   ]
  },
  {
   "cell_type": "markdown",
   "metadata": {},
   "source": [
    "### petal_width Histogram"
   ]
  },
  {
   "cell_type": "code",
   "execution_count": 453,
   "metadata": {},
   "outputs": [
    {
     "data": {
      "text/plain": [
       "Text(0.5, 1.0, 'Histogram of petal_width')"
      ]
     },
     "execution_count": 453,
     "metadata": {},
     "output_type": "execute_result"
    },
    {
     "data": {
      "image/png": "[encoded data removed]",
      "text/plain": [
       "<Figure size 800x500 with 1 Axes>"
      ]
     },
     "metadata": {},
     "output_type": "display_data"
    }
   ],
   "source": [
    "# 1. Import matplotlib & PANDAS\n",
    "# 2. Import & load dataset\n",
    "\n",
    "# Select the feature/column to plot\n",
    "feature = iris[\"petal_width\"]\n",
    "\n",
    "# Create the histogram\n",
    "plt.figure(figsize=(8, 5)) # Sets hist size\n",
    "plt.hist(feature, bins=10, color='purple', edgecolor='pink', alpha=0.7)\n",
    "\n",
    "# Add title & labels to axis\n",
    "plt.xlabel(\"petal_width Feature Value\")\n",
    "plt.ylabel(\"Frequency\")\n",
    "plt.title(\"Histogram of petal_width\")\n",
    "\n",
    "# Source: https://chatgpt.com/share/67c8d1e3-e58c-8011-ba8d-42654ba25576"
   ]
  },
  {
   "cell_type": "markdown",
   "metadata": {},
   "source": [
    "<h2 align=\"center\">Task 5: Investigate Relationships</h2>\n",
    "\n",
    "Instructions: Choose any two features from the data set and create a scatter plot of them.\n",
    "Color-code the three different classes of the scatter plot points."
   ]
  },
  {
   "cell_type": "markdown",
   "metadata": {},
   "source": [
    "Features chosen: sepal length & petal width.\n",
    "\n",
    "I will use two methods to create the scatterplot. 1. Utilzing Matplotlib & NumPy, 2. Utilizing Seaborn, Matplotlib & PANDAS"
   ]
  },
  {
   "cell_type": "markdown",
   "metadata": {},
   "source": [
    "### Scatterplot using Matplotlib & NumPy"
   ]
  },
  {
   "cell_type": "code",
   "execution_count": 456,
   "metadata": {},
   "outputs": [
    {
     "ename": "ValueError",
     "evalue": "'c' argument must be a color, a sequence of colors, or a sequence of numbers, not <pandas.core.groupby.generic.DataFrameGroupBy object at 0x7a260109a0f0>",
     "output_type": "error",
     "traceback": [
      "\u001b[0;31m---------------------------------------------------------------------------\u001b[0m",
      "\u001b[0;31mTypeError\u001b[0m                                 Traceback (most recent call last)",
      "File \u001b[0;32m~/.local/lib/python3.12/site-packages/matplotlib/axes/_axes.py:4618\u001b[0m, in \u001b[0;36mAxes._parse_scatter_color_args\u001b[0;34m(c, edgecolors, kwargs, xsize, get_next_color_func)\u001b[0m\n\u001b[1;32m   4617\u001b[0m \u001b[38;5;28;01mtry\u001b[39;00m:  \u001b[38;5;66;03m# Is 'c' acceptable as PathCollection facecolors?\u001b[39;00m\n\u001b[0;32m-> 4618\u001b[0m     colors \u001b[38;5;241m=\u001b[39m \u001b[43mmcolors\u001b[49m\u001b[38;5;241;43m.\u001b[39;49m\u001b[43mto_rgba_array\u001b[49m\u001b[43m(\u001b[49m\u001b[43mc\u001b[49m\u001b[43m)\u001b[49m\n\u001b[1;32m   4619\u001b[0m \u001b[38;5;28;01mexcept\u001b[39;00m (\u001b[38;5;167;01mTypeError\u001b[39;00m, \u001b[38;5;167;01mValueError\u001b[39;00m) \u001b[38;5;28;01mas\u001b[39;00m err:\n",
      "File \u001b[0;32m~/.local/lib/python3.12/site-packages/matplotlib/colors.py:512\u001b[0m, in \u001b[0;36mto_rgba_array\u001b[0;34m(c, alpha)\u001b[0m\n\u001b[1;32m    511\u001b[0m \u001b[38;5;28;01melse\u001b[39;00m:\n\u001b[0;32m--> 512\u001b[0m     rgba \u001b[38;5;241m=\u001b[39m np\u001b[38;5;241m.\u001b[39marray([\u001b[43mto_rgba\u001b[49m\u001b[43m(\u001b[49m\u001b[43mcc\u001b[49m\u001b[43m)\u001b[49m \u001b[38;5;28;01mfor\u001b[39;00m cc \u001b[38;5;129;01min\u001b[39;00m c])\n\u001b[1;32m    514\u001b[0m \u001b[38;5;28;01mif\u001b[39;00m alpha \u001b[38;5;129;01mis\u001b[39;00m \u001b[38;5;129;01mnot\u001b[39;00m \u001b[38;5;28;01mNone\u001b[39;00m:\n",
      "File \u001b[0;32m~/.local/lib/python3.12/site-packages/matplotlib/colors.py:314\u001b[0m, in \u001b[0;36mto_rgba\u001b[0;34m(c, alpha)\u001b[0m\n\u001b[1;32m    313\u001b[0m \u001b[38;5;28;01mif\u001b[39;00m rgba \u001b[38;5;129;01mis\u001b[39;00m \u001b[38;5;28;01mNone\u001b[39;00m:  \u001b[38;5;66;03m# Suppress exception chaining of cache lookup failure.\u001b[39;00m\n\u001b[0;32m--> 314\u001b[0m     rgba \u001b[38;5;241m=\u001b[39m \u001b[43m_to_rgba_no_colorcycle\u001b[49m\u001b[43m(\u001b[49m\u001b[43mc\u001b[49m\u001b[43m,\u001b[49m\u001b[43m \u001b[49m\u001b[43malpha\u001b[49m\u001b[43m)\u001b[49m\n\u001b[1;32m    315\u001b[0m     \u001b[38;5;28;01mtry\u001b[39;00m:\n",
      "File \u001b[0;32m~/.local/lib/python3.12/site-packages/matplotlib/colors.py:333\u001b[0m, in \u001b[0;36m_to_rgba_no_colorcycle\u001b[0;34m(c, alpha)\u001b[0m\n\u001b[1;32m    323\u001b[0m \u001b[38;5;250m\u001b[39m\u001b[38;5;124;03m\"\"\"\u001b[39;00m\n\u001b[1;32m    324\u001b[0m \u001b[38;5;124;03mConvert *c* to an RGBA color, with no support for color-cycle syntax.\u001b[39;00m\n\u001b[1;32m    325\u001b[0m \n\u001b[0;32m   (...)\u001b[0m\n\u001b[1;32m    331\u001b[0m \u001b[38;5;124;03mwhich always maps to ``(0, 0, 0, 0)``.\u001b[39;00m\n\u001b[1;32m    332\u001b[0m \u001b[38;5;124;03m\"\"\"\u001b[39;00m\n\u001b[0;32m--> 333\u001b[0m \u001b[38;5;28;01mif\u001b[39;00m alpha \u001b[38;5;129;01mis\u001b[39;00m \u001b[38;5;129;01mnot\u001b[39;00m \u001b[38;5;28;01mNone\u001b[39;00m \u001b[38;5;129;01mand\u001b[39;00m \u001b[38;5;129;01mnot\u001b[39;00m \u001b[38;5;241;43m0\u001b[39;49m\u001b[43m \u001b[49m\u001b[38;5;241;43m<\u001b[39;49m\u001b[38;5;241;43m=\u001b[39;49m\u001b[43m \u001b[49m\u001b[43malpha\u001b[49m\u001b[43m \u001b[49m\u001b[38;5;241;43m<\u001b[39;49m\u001b[38;5;241;43m=\u001b[39;49m\u001b[43m \u001b[49m\u001b[38;5;241;43m1\u001b[39;49m:\n\u001b[1;32m    334\u001b[0m     \u001b[38;5;28;01mraise\u001b[39;00m \u001b[38;5;167;01mValueError\u001b[39;00m(\u001b[38;5;124m\"\u001b[39m\u001b[38;5;124m'\u001b[39m\u001b[38;5;124malpha\u001b[39m\u001b[38;5;124m'\u001b[39m\u001b[38;5;124m must be between 0 and 1, inclusive\u001b[39m\u001b[38;5;124m\"\u001b[39m)\n",
      "File \u001b[0;32m~/.local/lib/python3.12/site-packages/pandas/core/ops/common.py:76\u001b[0m, in \u001b[0;36m_unpack_zerodim_and_defer.<locals>.new_method\u001b[0;34m(self, other)\u001b[0m\n\u001b[1;32m     74\u001b[0m other \u001b[38;5;241m=\u001b[39m item_from_zerodim(other)\n\u001b[0;32m---> 76\u001b[0m \u001b[38;5;28;01mreturn\u001b[39;00m \u001b[43mmethod\u001b[49m\u001b[43m(\u001b[49m\u001b[38;5;28;43mself\u001b[39;49m\u001b[43m,\u001b[49m\u001b[43m \u001b[49m\u001b[43mother\u001b[49m\u001b[43m)\u001b[49m\n",
      "File \u001b[0;32m~/.local/lib/python3.12/site-packages/pandas/core/arraylike.py:60\u001b[0m, in \u001b[0;36mOpsMixin.__ge__\u001b[0;34m(self, other)\u001b[0m\n\u001b[1;32m     58\u001b[0m \u001b[38;5;129m@unpack_zerodim_and_defer\u001b[39m(\u001b[38;5;124m\"\u001b[39m\u001b[38;5;124m__ge__\u001b[39m\u001b[38;5;124m\"\u001b[39m)\n\u001b[1;32m     59\u001b[0m \u001b[38;5;28;01mdef\u001b[39;00m \u001b[38;5;21m__ge__\u001b[39m(\u001b[38;5;28mself\u001b[39m, other):\n\u001b[0;32m---> 60\u001b[0m     \u001b[38;5;28;01mreturn\u001b[39;00m \u001b[38;5;28;43mself\u001b[39;49m\u001b[38;5;241;43m.\u001b[39;49m\u001b[43m_cmp_method\u001b[49m\u001b[43m(\u001b[49m\u001b[43mother\u001b[49m\u001b[43m,\u001b[49m\u001b[43m \u001b[49m\u001b[43moperator\u001b[49m\u001b[38;5;241;43m.\u001b[39;49m\u001b[43mge\u001b[49m\u001b[43m)\u001b[49m\n",
      "File \u001b[0;32m~/.local/lib/python3.12/site-packages/pandas/core/frame.py:7900\u001b[0m, in \u001b[0;36mDataFrame._cmp_method\u001b[0;34m(self, other, op)\u001b[0m\n\u001b[1;32m   7899\u001b[0m \u001b[38;5;66;03m# See GH#4537 for discussion of scalar op behavior\u001b[39;00m\n\u001b[0;32m-> 7900\u001b[0m new_data \u001b[38;5;241m=\u001b[39m \u001b[38;5;28;43mself\u001b[39;49m\u001b[38;5;241;43m.\u001b[39;49m\u001b[43m_dispatch_frame_op\u001b[49m\u001b[43m(\u001b[49m\u001b[43mother\u001b[49m\u001b[43m,\u001b[49m\u001b[43m \u001b[49m\u001b[43mop\u001b[49m\u001b[43m,\u001b[49m\u001b[43m \u001b[49m\u001b[43maxis\u001b[49m\u001b[38;5;241;43m=\u001b[39;49m\u001b[43maxis\u001b[49m\u001b[43m)\u001b[49m\n\u001b[1;32m   7901\u001b[0m \u001b[38;5;28;01mreturn\u001b[39;00m \u001b[38;5;28mself\u001b[39m\u001b[38;5;241m.\u001b[39m_construct_result(new_data)\n",
      "File \u001b[0;32m~/.local/lib/python3.12/site-packages/pandas/core/frame.py:7945\u001b[0m, in \u001b[0;36mDataFrame._dispatch_frame_op\u001b[0;34m(self, right, func, axis)\u001b[0m\n\u001b[1;32m   7943\u001b[0m \u001b[38;5;28;01mif\u001b[39;00m \u001b[38;5;129;01mnot\u001b[39;00m is_list_like(right):\n\u001b[1;32m   7944\u001b[0m     \u001b[38;5;66;03m# i.e. scalar, faster than checking np.ndim(right) == 0\u001b[39;00m\n\u001b[0;32m-> 7945\u001b[0m     bm \u001b[38;5;241m=\u001b[39m \u001b[38;5;28;43mself\u001b[39;49m\u001b[38;5;241;43m.\u001b[39;49m\u001b[43m_mgr\u001b[49m\u001b[38;5;241;43m.\u001b[39;49m\u001b[43mapply\u001b[49m\u001b[43m(\u001b[49m\u001b[43marray_op\u001b[49m\u001b[43m,\u001b[49m\u001b[43m \u001b[49m\u001b[43mright\u001b[49m\u001b[38;5;241;43m=\u001b[39;49m\u001b[43mright\u001b[49m\u001b[43m)\u001b[49m\n\u001b[1;32m   7946\u001b[0m     \u001b[38;5;28;01mreturn\u001b[39;00m \u001b[38;5;28mself\u001b[39m\u001b[38;5;241m.\u001b[39m_constructor_from_mgr(bm, axes\u001b[38;5;241m=\u001b[39mbm\u001b[38;5;241m.\u001b[39maxes)\n",
      "File \u001b[0;32m~/.local/lib/python3.12/site-packages/pandas/core/internals/managers.py:361\u001b[0m, in \u001b[0;36mBaseBlockManager.apply\u001b[0;34m(self, f, align_keys, **kwargs)\u001b[0m\n\u001b[1;32m    360\u001b[0m \u001b[38;5;28;01mif\u001b[39;00m \u001b[38;5;28mcallable\u001b[39m(f):\n\u001b[0;32m--> 361\u001b[0m     applied \u001b[38;5;241m=\u001b[39m \u001b[43mb\u001b[49m\u001b[38;5;241;43m.\u001b[39;49m\u001b[43mapply\u001b[49m\u001b[43m(\u001b[49m\u001b[43mf\u001b[49m\u001b[43m,\u001b[49m\u001b[43m \u001b[49m\u001b[38;5;241;43m*\u001b[39;49m\u001b[38;5;241;43m*\u001b[39;49m\u001b[43mkwargs\u001b[49m\u001b[43m)\u001b[49m\n\u001b[1;32m    362\u001b[0m \u001b[38;5;28;01melse\u001b[39;00m:\n",
      "File \u001b[0;32m~/.local/lib/python3.12/site-packages/pandas/core/internals/blocks.py:393\u001b[0m, in \u001b[0;36mBlock.apply\u001b[0;34m(self, func, **kwargs)\u001b[0m\n\u001b[1;32m    389\u001b[0m \u001b[38;5;250m\u001b[39m\u001b[38;5;124;03m\"\"\"\u001b[39;00m\n\u001b[1;32m    390\u001b[0m \u001b[38;5;124;03mapply the function to my values; return a block if we are not\u001b[39;00m\n\u001b[1;32m    391\u001b[0m \u001b[38;5;124;03mone\u001b[39;00m\n\u001b[1;32m    392\u001b[0m \u001b[38;5;124;03m\"\"\"\u001b[39;00m\n\u001b[0;32m--> 393\u001b[0m result \u001b[38;5;241m=\u001b[39m \u001b[43mfunc\u001b[49m\u001b[43m(\u001b[49m\u001b[38;5;28;43mself\u001b[39;49m\u001b[38;5;241;43m.\u001b[39;49m\u001b[43mvalues\u001b[49m\u001b[43m,\u001b[49m\u001b[43m \u001b[49m\u001b[38;5;241;43m*\u001b[39;49m\u001b[38;5;241;43m*\u001b[39;49m\u001b[43mkwargs\u001b[49m\u001b[43m)\u001b[49m\n\u001b[1;32m    395\u001b[0m result \u001b[38;5;241m=\u001b[39m maybe_coerce_values(result)\n",
      "File \u001b[0;32m~/.local/lib/python3.12/site-packages/pandas/core/ops/array_ops.py:344\u001b[0m, in \u001b[0;36mcomparison_op\u001b[0;34m(left, right, op)\u001b[0m\n\u001b[1;32m    343\u001b[0m \u001b[38;5;28;01melif\u001b[39;00m lvalues\u001b[38;5;241m.\u001b[39mdtype \u001b[38;5;241m==\u001b[39m \u001b[38;5;28mobject\u001b[39m \u001b[38;5;129;01mor\u001b[39;00m \u001b[38;5;28misinstance\u001b[39m(rvalues, \u001b[38;5;28mstr\u001b[39m):\n\u001b[0;32m--> 344\u001b[0m     res_values \u001b[38;5;241m=\u001b[39m \u001b[43mcomp_method_OBJECT_ARRAY\u001b[49m\u001b[43m(\u001b[49m\u001b[43mop\u001b[49m\u001b[43m,\u001b[49m\u001b[43m \u001b[49m\u001b[43mlvalues\u001b[49m\u001b[43m,\u001b[49m\u001b[43m \u001b[49m\u001b[43mrvalues\u001b[49m\u001b[43m)\u001b[49m\n\u001b[1;32m    346\u001b[0m \u001b[38;5;28;01melse\u001b[39;00m:\n",
      "File \u001b[0;32m~/.local/lib/python3.12/site-packages/pandas/core/ops/array_ops.py:129\u001b[0m, in \u001b[0;36mcomp_method_OBJECT_ARRAY\u001b[0;34m(op, x, y)\u001b[0m\n\u001b[1;32m    128\u001b[0m \u001b[38;5;28;01melse\u001b[39;00m:\n\u001b[0;32m--> 129\u001b[0m     result \u001b[38;5;241m=\u001b[39m \u001b[43mlibops\u001b[49m\u001b[38;5;241;43m.\u001b[39;49m\u001b[43mscalar_compare\u001b[49m\u001b[43m(\u001b[49m\u001b[43mx\u001b[49m\u001b[38;5;241;43m.\u001b[39;49m\u001b[43mravel\u001b[49m\u001b[43m(\u001b[49m\u001b[43m)\u001b[49m\u001b[43m,\u001b[49m\u001b[43m \u001b[49m\u001b[43my\u001b[49m\u001b[43m,\u001b[49m\u001b[43m \u001b[49m\u001b[43mop\u001b[49m\u001b[43m)\u001b[49m\n\u001b[1;32m    130\u001b[0m \u001b[38;5;28;01mreturn\u001b[39;00m result\u001b[38;5;241m.\u001b[39mreshape(x\u001b[38;5;241m.\u001b[39mshape)\n",
      "File \u001b[0;32mops.pyx:107\u001b[0m, in \u001b[0;36mpandas._libs.ops.scalar_compare\u001b[0;34m()\u001b[0m\n",
      "\u001b[0;31mTypeError\u001b[0m: '>=' not supported between instances of 'str' and 'int'",
      "\nThe above exception was the direct cause of the following exception:\n",
      "\u001b[0;31mValueError\u001b[0m                                Traceback (most recent call last)",
      "Cell \u001b[0;32mIn[456], line 24\u001b[0m\n\u001b[1;32m     20\u001b[0m plt\u001b[38;5;241m.\u001b[39mlegend()\n\u001b[1;32m     23\u001b[0m \u001b[38;5;66;03m# Scatter plot.\u001b[39;00m\n\u001b[0;32m---> 24\u001b[0m \u001b[43max\u001b[49m\u001b[38;5;241;43m.\u001b[39;49m\u001b[43mscatter\u001b[49m\u001b[43m(\u001b[49m\u001b[43msepal_length\u001b[49m\u001b[43m,\u001b[49m\u001b[43m \u001b[49m\u001b[43mpetal_width\u001b[49m\u001b[43m,\u001b[49m\u001b[43m \u001b[49m\u001b[43mc\u001b[49m\u001b[38;5;241;43m=\u001b[39;49m\u001b[43mgroups\u001b[49m\u001b[43m)\u001b[49m\n\u001b[1;32m     26\u001b[0m \u001b[38;5;66;03m# need to change species to numbers\u001b[39;00m\n",
      "File \u001b[0;32m~/.local/lib/python3.12/site-packages/matplotlib/__init__.py:1476\u001b[0m, in \u001b[0;36m_preprocess_data.<locals>.inner\u001b[0;34m(ax, data, *args, **kwargs)\u001b[0m\n\u001b[1;32m   1473\u001b[0m \u001b[38;5;129m@functools\u001b[39m\u001b[38;5;241m.\u001b[39mwraps(func)\n\u001b[1;32m   1474\u001b[0m \u001b[38;5;28;01mdef\u001b[39;00m \u001b[38;5;21minner\u001b[39m(ax, \u001b[38;5;241m*\u001b[39margs, data\u001b[38;5;241m=\u001b[39m\u001b[38;5;28;01mNone\u001b[39;00m, \u001b[38;5;241m*\u001b[39m\u001b[38;5;241m*\u001b[39mkwargs):\n\u001b[1;32m   1475\u001b[0m     \u001b[38;5;28;01mif\u001b[39;00m data \u001b[38;5;129;01mis\u001b[39;00m \u001b[38;5;28;01mNone\u001b[39;00m:\n\u001b[0;32m-> 1476\u001b[0m         \u001b[38;5;28;01mreturn\u001b[39;00m \u001b[43mfunc\u001b[49m\u001b[43m(\u001b[49m\n\u001b[1;32m   1477\u001b[0m \u001b[43m            \u001b[49m\u001b[43max\u001b[49m\u001b[43m,\u001b[49m\n\u001b[1;32m   1478\u001b[0m \u001b[43m            \u001b[49m\u001b[38;5;241;43m*\u001b[39;49m\u001b[38;5;28;43mmap\u001b[39;49m\u001b[43m(\u001b[49m\u001b[43msanitize_sequence\u001b[49m\u001b[43m,\u001b[49m\u001b[43m \u001b[49m\u001b[43margs\u001b[49m\u001b[43m)\u001b[49m\u001b[43m,\u001b[49m\n\u001b[1;32m   1479\u001b[0m \u001b[43m            \u001b[49m\u001b[38;5;241;43m*\u001b[39;49m\u001b[38;5;241;43m*\u001b[39;49m\u001b[43m{\u001b[49m\u001b[43mk\u001b[49m\u001b[43m:\u001b[49m\u001b[43m \u001b[49m\u001b[43msanitize_sequence\u001b[49m\u001b[43m(\u001b[49m\u001b[43mv\u001b[49m\u001b[43m)\u001b[49m\u001b[43m \u001b[49m\u001b[38;5;28;43;01mfor\u001b[39;49;00m\u001b[43m \u001b[49m\u001b[43mk\u001b[49m\u001b[43m,\u001b[49m\u001b[43m \u001b[49m\u001b[43mv\u001b[49m\u001b[43m \u001b[49m\u001b[38;5;129;43;01min\u001b[39;49;00m\u001b[43m \u001b[49m\u001b[43mkwargs\u001b[49m\u001b[38;5;241;43m.\u001b[39;49m\u001b[43mitems\u001b[49m\u001b[43m(\u001b[49m\u001b[43m)\u001b[49m\u001b[43m}\u001b[49m\u001b[43m)\u001b[49m\n\u001b[1;32m   1481\u001b[0m     bound \u001b[38;5;241m=\u001b[39m new_sig\u001b[38;5;241m.\u001b[39mbind(ax, \u001b[38;5;241m*\u001b[39margs, \u001b[38;5;241m*\u001b[39m\u001b[38;5;241m*\u001b[39mkwargs)\n\u001b[1;32m   1482\u001b[0m     auto_label \u001b[38;5;241m=\u001b[39m (bound\u001b[38;5;241m.\u001b[39marguments\u001b[38;5;241m.\u001b[39mget(label_namer)\n\u001b[1;32m   1483\u001b[0m                   \u001b[38;5;129;01mor\u001b[39;00m bound\u001b[38;5;241m.\u001b[39mkwargs\u001b[38;5;241m.\u001b[39mget(label_namer))\n",
      "File \u001b[0;32m~/.local/lib/python3.12/site-packages/matplotlib/axes/_axes.py:4805\u001b[0m, in \u001b[0;36mAxes.scatter\u001b[0;34m(self, x, y, s, c, marker, cmap, norm, vmin, vmax, alpha, linewidths, edgecolors, plotnonfinite, **kwargs)\u001b[0m\n\u001b[1;32m   4802\u001b[0m \u001b[38;5;28;01mif\u001b[39;00m edgecolors \u001b[38;5;129;01mis\u001b[39;00m \u001b[38;5;28;01mNone\u001b[39;00m:\n\u001b[1;32m   4803\u001b[0m     orig_edgecolor \u001b[38;5;241m=\u001b[39m kwargs\u001b[38;5;241m.\u001b[39mget(\u001b[38;5;124m'\u001b[39m\u001b[38;5;124medgecolor\u001b[39m\u001b[38;5;124m'\u001b[39m, \u001b[38;5;28;01mNone\u001b[39;00m)\n\u001b[1;32m   4804\u001b[0m c, colors, edgecolors \u001b[38;5;241m=\u001b[39m \\\n\u001b[0;32m-> 4805\u001b[0m     \u001b[38;5;28;43mself\u001b[39;49m\u001b[38;5;241;43m.\u001b[39;49m\u001b[43m_parse_scatter_color_args\u001b[49m\u001b[43m(\u001b[49m\n\u001b[1;32m   4806\u001b[0m \u001b[43m        \u001b[49m\u001b[43mc\u001b[49m\u001b[43m,\u001b[49m\u001b[43m \u001b[49m\u001b[43medgecolors\u001b[49m\u001b[43m,\u001b[49m\u001b[43m \u001b[49m\u001b[43mkwargs\u001b[49m\u001b[43m,\u001b[49m\u001b[43m \u001b[49m\u001b[43mx\u001b[49m\u001b[38;5;241;43m.\u001b[39;49m\u001b[43msize\u001b[49m\u001b[43m,\u001b[49m\n\u001b[1;32m   4807\u001b[0m \u001b[43m        \u001b[49m\u001b[43mget_next_color_func\u001b[49m\u001b[38;5;241;43m=\u001b[39;49m\u001b[38;5;28;43mself\u001b[39;49m\u001b[38;5;241;43m.\u001b[39;49m\u001b[43m_get_patches_for_fill\u001b[49m\u001b[38;5;241;43m.\u001b[39;49m\u001b[43mget_next_color\u001b[49m\u001b[43m)\u001b[49m\n\u001b[1;32m   4809\u001b[0m \u001b[38;5;28;01mif\u001b[39;00m plotnonfinite \u001b[38;5;129;01mand\u001b[39;00m colors \u001b[38;5;129;01mis\u001b[39;00m \u001b[38;5;28;01mNone\u001b[39;00m:\n\u001b[1;32m   4810\u001b[0m     c \u001b[38;5;241m=\u001b[39m np\u001b[38;5;241m.\u001b[39mma\u001b[38;5;241m.\u001b[39mmasked_invalid(c)\n",
      "File \u001b[0;32m~/.local/lib/python3.12/site-packages/matplotlib/axes/_axes.py:4627\u001b[0m, in \u001b[0;36mAxes._parse_scatter_color_args\u001b[0;34m(c, edgecolors, kwargs, xsize, get_next_color_func)\u001b[0m\n\u001b[1;32m   4624\u001b[0m             \u001b[38;5;28;01mraise\u001b[39;00m invalid_shape_exception(c\u001b[38;5;241m.\u001b[39msize, xsize) \u001b[38;5;28;01mfrom\u001b[39;00m \u001b[38;5;21;01merr\u001b[39;00m\n\u001b[1;32m   4625\u001b[0m         \u001b[38;5;66;03m# Both the mapping *and* the RGBA conversion failed: pretty\u001b[39;00m\n\u001b[1;32m   4626\u001b[0m         \u001b[38;5;66;03m# severe failure => one may appreciate a verbose feedback.\u001b[39;00m\n\u001b[0;32m-> 4627\u001b[0m         \u001b[38;5;28;01mraise\u001b[39;00m \u001b[38;5;167;01mValueError\u001b[39;00m(\n\u001b[1;32m   4628\u001b[0m             \u001b[38;5;124mf\u001b[39m\u001b[38;5;124m\"\u001b[39m\u001b[38;5;124m'\u001b[39m\u001b[38;5;124mc\u001b[39m\u001b[38;5;124m'\u001b[39m\u001b[38;5;124m argument must be a color, a sequence of colors, \u001b[39m\u001b[38;5;124m\"\u001b[39m\n\u001b[1;32m   4629\u001b[0m             \u001b[38;5;124mf\u001b[39m\u001b[38;5;124m\"\u001b[39m\u001b[38;5;124mor a sequence of numbers, not \u001b[39m\u001b[38;5;132;01m{\u001b[39;00mc\u001b[38;5;132;01m!r}\u001b[39;00m\u001b[38;5;124m\"\u001b[39m) \u001b[38;5;28;01mfrom\u001b[39;00m \u001b[38;5;21;01merr\u001b[39;00m\n\u001b[1;32m   4630\u001b[0m \u001b[38;5;28;01melse\u001b[39;00m:\n\u001b[1;32m   4631\u001b[0m     \u001b[38;5;28;01mif\u001b[39;00m \u001b[38;5;28mlen\u001b[39m(colors) \u001b[38;5;129;01mnot\u001b[39;00m \u001b[38;5;129;01min\u001b[39;00m (\u001b[38;5;241m0\u001b[39m, \u001b[38;5;241m1\u001b[39m, xsize):\n\u001b[1;32m   4632\u001b[0m         \u001b[38;5;66;03m# NB: remember that a single color is also acceptable.\u001b[39;00m\n\u001b[1;32m   4633\u001b[0m         \u001b[38;5;66;03m# Besides *colors* will be an empty array if c == 'none'.\u001b[39;00m\n",
      "\u001b[0;31mValueError\u001b[0m: 'c' argument must be a color, a sequence of colors, or a sequence of numbers, not <pandas.core.groupby.generic.DataFrameGroupBy object at 0x7a260109a0f0>"
     ]
    },
    {
     "data": {
      "image/png": "[encoded data removed]",
      "text/plain": [
       "<Figure size 640x480 with 1 Axes>"
      ]
     },
     "metadata": {},
     "output_type": "display_data"
    }
   ],
   "source": [
    "data = load_iris()\n",
    "\n",
    "# Access features to plot\n",
    "sepal_length = iris[\"sepal_length\"]  \n",
    "petal_width = iris[\"petal_width\"] \n",
    "species = iris[\"species\"] \n",
    "\n",
    "# Create figure & axis\n",
    "fig, ax = plt.subplots()\n",
    "\n",
    "# Create labels\n",
    "ax.set_xlabel('sepal_length')\n",
    "ax.set_ylabel('petal_width')\n",
    "\n",
    "# Add color to species - See: https://www.statology.org/matplotlib-scatterplot-color-by-value/\n",
    "groups = iris.groupby('species')\n",
    "for species, group in groups:\n",
    "     plt.plot(group.sepal_length, group.petal_width, marker='o', linestyle='', markersize=12, label=species)\n",
    "\n",
    "plt.legend()\n",
    "\n",
    "\n",
    "# Scatter plot.\n",
    "ax.scatter(sepal_length, petal_width, c=groups)\n",
    "\n",
    "# need to change species to numbers\n"
   ]
  },
  {
   "cell_type": "code",
   "execution_count": null,
   "metadata": {},
   "outputs": [
    {
     "data": {
      "text/plain": [
       "<matplotlib.legend.Legend at 0x7a260165ba10>"
      ]
     },
     "execution_count": 386,
     "metadata": {},
     "output_type": "execute_result"
    },
    {
     "data": {
      "image/png": "[encoded data removed]",
      "text/plain": [
       "<Figure size 640x480 with 1 Axes>"
      ]
     },
     "metadata": {},
     "output_type": "display_data"
    }
   ],
   "source": [
    "import matplotlib.pyplot as plt\n",
    "import pandas as pd\n",
    "import numpy as np\n",
    "\n",
    "# Sample data (Replace with your actual dataset)\n",
    "df = pd.DataFrame({\n",
    "    'sepal_length': np.random.rand(10),\n",
    "    'petal_width': np.random.rand(10),\n",
    "    'species': np.random.choice(['setosa', 'versicolor', 'virginica'], 10)\n",
    "})\n",
    "\n",
    "# Convert species to numerical values\n",
    "species_mapping = {'setosa': 0, 'versicolor': 1, 'virginica': 2}\n",
    "df['species_num'] = df['species'].map(species_mapping)\n",
    "\n",
    "# Scatter plot\n",
    "fig, ax = plt.subplots()\n",
    "scatter = ax.scatter(df['sepal_length'], df['petal_width'], c=df['species_num'], cmap='viridis')\n",
    "\n",
    "# Create a legend\n",
    "legend_labels = [plt.Line2D([0], [0], marker='o', color='w', markersize=10, label=key, \n",
    "                            markerfacecolor=plt.get_cmap('viridis')(val/2)) \n",
    "                 for key, val in species_mapping.items()]\n",
    "ax.legend(handles=legend_labels, title=\"Species\")\n"
   ]
  },
  {
   "cell_type": "markdown",
   "metadata": {},
   "source": [
    "### Scatterplot using Seaborn"
   ]
  },
  {
   "cell_type": "code",
   "execution_count": null,
   "metadata": {},
   "outputs": [
    {
     "data": {
      "text/plain": [
       "Text(0.5, 1.0, 'Scatterplot of Petal Width & Sepal Length')"
      ]
     },
     "execution_count": 376,
     "metadata": {},
     "output_type": "execute_result"
    },
    {
     "data": {
      "image/png": "[encoded data removed]",
      "text/plain": [
       "<Figure size 640x480 with 1 Axes>"
      ]
     },
     "metadata": {},
     "output_type": "display_data"
    }
   ],
   "source": [
    "# 1. Import & run seaborn, matplotlib & pandas\n",
    "\n",
    "# Plot scatterplot using seaborn\n",
    "sns.scatterplot(data=iris, x='sepal_length', \n",
    "                y='petal_width', hue='species')\n",
    "\n",
    "# You can also convert the species labels to numberical labels using sklearn.preprocessing.LabelEncoder()\n",
    "# Example:\n",
    "# from sklearn import preprocessing \n",
    "# le = preprocessing.LabelEncoder() \n",
    "# iris.species = le.fit_transform(iris.species) \n",
    "\n",
    "# Add title:\n",
    "plt.title(\"Scatterplot of Petal Width & Sepal Length\")\n",
    "\n",
    "# plt.plot() - not needed in Jupyter\n",
    "\n",
    "# Source: https://www.geeksforgeeks.org/create-a-scatter-plot-using-sepal-length-and-petal_width-to-separate-the-species-classes-using-scikit-learn/"
   ]
  },
  {
   "cell_type": "markdown",
   "metadata": {},
   "source": [
    "<h2 align=\"center\">Task 6: Analyze Relationship</h2>\n",
    "\n",
    "Instructions: Use numpy.polyfit to add a regression line to the scatter plot from Task 5."
   ]
  },
  {
   "cell_type": "markdown",
   "metadata": {},
   "source": []
  },
  {
   "cell_type": "code",
   "execution_count": null,
   "metadata": {},
   "outputs": [],
   "source": []
  },
  {
   "cell_type": "markdown",
   "metadata": {},
   "source": [
    "<h2 align=\"center\">Task 7: Analyze Class Distributions</h2>\n",
    "\n",
    "Instructions: Create box-plots of the petal lengths for each of the three classes."
   ]
  },
  {
   "cell_type": "markdown",
   "metadata": {},
   "source": []
  },
  {
   "cell_type": "code",
   "execution_count": null,
   "metadata": {},
   "outputs": [],
   "source": []
  },
  {
   "cell_type": "markdown",
   "metadata": {},
   "source": [
    "<h2 align=\"center\">Task 8: Compute Correlations</h2>\n",
    "\n",
    "Instructions: Calculate the correlation coefficients between the features.\n",
    "Display the results as a heatmap using matplotlib."
   ]
  },
  {
   "cell_type": "markdown",
   "metadata": {},
   "source": []
  },
  {
   "cell_type": "code",
   "execution_count": null,
   "metadata": {},
   "outputs": [],
   "source": []
  },
  {
   "cell_type": "markdown",
   "metadata": {},
   "source": [
    "<h2 align=\"center\">Task 9: Fit a Simple Linear Regression</h2>\n",
    "\n",
    "Instructions: For your two features in Task 5, calculate the coefficient of determination R2.\n",
    "Re-create the plot from Task 6 and annotate it with the R2 value."
   ]
  },
  {
   "cell_type": "markdown",
   "metadata": {},
   "source": []
  },
  {
   "cell_type": "code",
   "execution_count": null,
   "metadata": {},
   "outputs": [],
   "source": []
  },
  {
   "cell_type": "markdown",
   "metadata": {},
   "source": [
    "<h2 align=\"center\">Task 10: Too Many Features</h2>\n",
    "\n",
    "Instructions: Use seaborn to create a pairplot of the data set.\n",
    "Explain, in your own words, what the pairplot depicts."
   ]
  },
  {
   "cell_type": "markdown",
   "metadata": {},
   "source": []
  },
  {
   "cell_type": "code",
   "execution_count": null,
   "metadata": {},
   "outputs": [],
   "source": []
  },
  {
   "cell_type": "markdown",
   "metadata": {},
   "source": [
    "## End of Notebook"
   ]
  }
 ],
 "metadata": {
  "kernelspec": {
   "display_name": "Python 3",
   "language": "python",
   "name": "python3"
  },
  "language_info": {
   "codemirror_mode": {
    "name": "ipython",
    "version": 3
   },
   "file_extension": ".py",
   "mimetype": "text/x-python",
   "name": "python",
   "nbconvert_exporter": "python",
   "pygments_lexer": "ipython3",
   "version": "3.12.1"
  }
 },
 "nbformat": 4,
 "nbformat_minor": 2
}
